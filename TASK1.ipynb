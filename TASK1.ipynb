{
  "nbformat": 4,
  "nbformat_minor": 0,
  "metadata": {
    "colab": {
      "provenance": []
    },
    "kernelspec": {
      "name": "python3",
      "display_name": "Python 3"
    },
    "language_info": {
      "name": "python"
    }
  },
  "cells": [
    {
      "cell_type": "code",
      "execution_count": 1,
      "metadata": {
        "id": "ASl9Ieb3srAP"
      },
      "outputs": [],
      "source": [
        "import pandas as pd\n",
        "import numpy as np"
      ]
    },
    {
      "cell_type": "code",
      "source": [
        "# Loading the Dataset\n",
        "df = pd.read_csv(\"Sensor Data.csv\")\n",
        "df"
      ],
      "metadata": {
        "colab": {
          "base_uri": "https://localhost:8080/",
          "height": 423
        },
        "id": "h5U-GZpqs_un",
        "outputId": "74cd0105-2f78-4377-8c21-64212e63db21"
      },
      "execution_count": 3,
      "outputs": [
        {
          "output_type": "execute_result",
          "data": {
            "text/plain": [
              "           Timestamp  Temperature  Humidity\n",
              "0      1/1/2022 0:00         22.3      65.4\n",
              "1      1/1/2022 1:00         21.5      62.1\n",
              "2      1/1/2022 2:00         20.9      59.8\n",
              "3      1/1/2022 3:00         20.5      58.2\n",
              "4      1/1/2022 4:00         20.1      56.7\n",
              "..               ...          ...       ...\n",
              "304  1/11/2022 18:00         32.1      64.0\n",
              "305  1/11/2022 19:00         31.5      62.1\n",
              "306  1/11/2022 20:00         30.7      59.4\n",
              "307  1/11/2022 21:00         30.0      57.2\n",
              "308  1/11/2022 22:00         29.4      55.0\n",
              "\n",
              "[309 rows x 3 columns]"
            ],
            "text/html": [
              "\n",
              "  <div id=\"df-caafacbf-92d2-4159-a619-25ce70d3e707\">\n",
              "    <div class=\"colab-df-container\">\n",
              "      <div>\n",
              "<style scoped>\n",
              "    .dataframe tbody tr th:only-of-type {\n",
              "        vertical-align: middle;\n",
              "    }\n",
              "\n",
              "    .dataframe tbody tr th {\n",
              "        vertical-align: top;\n",
              "    }\n",
              "\n",
              "    .dataframe thead th {\n",
              "        text-align: right;\n",
              "    }\n",
              "</style>\n",
              "<table border=\"1\" class=\"dataframe\">\n",
              "  <thead>\n",
              "    <tr style=\"text-align: right;\">\n",
              "      <th></th>\n",
              "      <th>Timestamp</th>\n",
              "      <th>Temperature</th>\n",
              "      <th>Humidity</th>\n",
              "    </tr>\n",
              "  </thead>\n",
              "  <tbody>\n",
              "    <tr>\n",
              "      <th>0</th>\n",
              "      <td>1/1/2022 0:00</td>\n",
              "      <td>22.3</td>\n",
              "      <td>65.4</td>\n",
              "    </tr>\n",
              "    <tr>\n",
              "      <th>1</th>\n",
              "      <td>1/1/2022 1:00</td>\n",
              "      <td>21.5</td>\n",
              "      <td>62.1</td>\n",
              "    </tr>\n",
              "    <tr>\n",
              "      <th>2</th>\n",
              "      <td>1/1/2022 2:00</td>\n",
              "      <td>20.9</td>\n",
              "      <td>59.8</td>\n",
              "    </tr>\n",
              "    <tr>\n",
              "      <th>3</th>\n",
              "      <td>1/1/2022 3:00</td>\n",
              "      <td>20.5</td>\n",
              "      <td>58.2</td>\n",
              "    </tr>\n",
              "    <tr>\n",
              "      <th>4</th>\n",
              "      <td>1/1/2022 4:00</td>\n",
              "      <td>20.1</td>\n",
              "      <td>56.7</td>\n",
              "    </tr>\n",
              "    <tr>\n",
              "      <th>...</th>\n",
              "      <td>...</td>\n",
              "      <td>...</td>\n",
              "      <td>...</td>\n",
              "    </tr>\n",
              "    <tr>\n",
              "      <th>304</th>\n",
              "      <td>1/11/2022 18:00</td>\n",
              "      <td>32.1</td>\n",
              "      <td>64.0</td>\n",
              "    </tr>\n",
              "    <tr>\n",
              "      <th>305</th>\n",
              "      <td>1/11/2022 19:00</td>\n",
              "      <td>31.5</td>\n",
              "      <td>62.1</td>\n",
              "    </tr>\n",
              "    <tr>\n",
              "      <th>306</th>\n",
              "      <td>1/11/2022 20:00</td>\n",
              "      <td>30.7</td>\n",
              "      <td>59.4</td>\n",
              "    </tr>\n",
              "    <tr>\n",
              "      <th>307</th>\n",
              "      <td>1/11/2022 21:00</td>\n",
              "      <td>30.0</td>\n",
              "      <td>57.2</td>\n",
              "    </tr>\n",
              "    <tr>\n",
              "      <th>308</th>\n",
              "      <td>1/11/2022 22:00</td>\n",
              "      <td>29.4</td>\n",
              "      <td>55.0</td>\n",
              "    </tr>\n",
              "  </tbody>\n",
              "</table>\n",
              "<p>309 rows × 3 columns</p>\n",
              "</div>\n",
              "      <button class=\"colab-df-convert\" onclick=\"convertToInteractive('df-caafacbf-92d2-4159-a619-25ce70d3e707')\"\n",
              "              title=\"Convert this dataframe to an interactive table.\"\n",
              "              style=\"display:none;\">\n",
              "        \n",
              "  <svg xmlns=\"http://www.w3.org/2000/svg\" height=\"24px\"viewBox=\"0 0 24 24\"\n",
              "       width=\"24px\">\n",
              "    <path d=\"M0 0h24v24H0V0z\" fill=\"none\"/>\n",
              "    <path d=\"M18.56 5.44l.94 2.06.94-2.06 2.06-.94-2.06-.94-.94-2.06-.94 2.06-2.06.94zm-11 1L8.5 8.5l.94-2.06 2.06-.94-2.06-.94L8.5 2.5l-.94 2.06-2.06.94zm10 10l.94 2.06.94-2.06 2.06-.94-2.06-.94-.94-2.06-.94 2.06-2.06.94z\"/><path d=\"M17.41 7.96l-1.37-1.37c-.4-.4-.92-.59-1.43-.59-.52 0-1.04.2-1.43.59L10.3 9.45l-7.72 7.72c-.78.78-.78 2.05 0 2.83L4 21.41c.39.39.9.59 1.41.59.51 0 1.02-.2 1.41-.59l7.78-7.78 2.81-2.81c.8-.78.8-2.07 0-2.86zM5.41 20L4 18.59l7.72-7.72 1.47 1.35L5.41 20z\"/>\n",
              "  </svg>\n",
              "      </button>\n",
              "      \n",
              "  <style>\n",
              "    .colab-df-container {\n",
              "      display:flex;\n",
              "      flex-wrap:wrap;\n",
              "      gap: 12px;\n",
              "    }\n",
              "\n",
              "    .colab-df-convert {\n",
              "      background-color: #E8F0FE;\n",
              "      border: none;\n",
              "      border-radius: 50%;\n",
              "      cursor: pointer;\n",
              "      display: none;\n",
              "      fill: #1967D2;\n",
              "      height: 32px;\n",
              "      padding: 0 0 0 0;\n",
              "      width: 32px;\n",
              "    }\n",
              "\n",
              "    .colab-df-convert:hover {\n",
              "      background-color: #E2EBFA;\n",
              "      box-shadow: 0px 1px 2px rgba(60, 64, 67, 0.3), 0px 1px 3px 1px rgba(60, 64, 67, 0.15);\n",
              "      fill: #174EA6;\n",
              "    }\n",
              "\n",
              "    [theme=dark] .colab-df-convert {\n",
              "      background-color: #3B4455;\n",
              "      fill: #D2E3FC;\n",
              "    }\n",
              "\n",
              "    [theme=dark] .colab-df-convert:hover {\n",
              "      background-color: #434B5C;\n",
              "      box-shadow: 0px 1px 3px 1px rgba(0, 0, 0, 0.15);\n",
              "      filter: drop-shadow(0px 1px 2px rgba(0, 0, 0, 0.3));\n",
              "      fill: #FFFFFF;\n",
              "    }\n",
              "  </style>\n",
              "\n",
              "      <script>\n",
              "        const buttonEl =\n",
              "          document.querySelector('#df-caafacbf-92d2-4159-a619-25ce70d3e707 button.colab-df-convert');\n",
              "        buttonEl.style.display =\n",
              "          google.colab.kernel.accessAllowed ? 'block' : 'none';\n",
              "\n",
              "        async function convertToInteractive(key) {\n",
              "          const element = document.querySelector('#df-caafacbf-92d2-4159-a619-25ce70d3e707');\n",
              "          const dataTable =\n",
              "            await google.colab.kernel.invokeFunction('convertToInteractive',\n",
              "                                                     [key], {});\n",
              "          if (!dataTable) return;\n",
              "\n",
              "          const docLinkHtml = 'Like what you see? Visit the ' +\n",
              "            '<a target=\"_blank\" href=https://colab.research.google.com/notebooks/data_table.ipynb>data table notebook</a>'\n",
              "            + ' to learn more about interactive tables.';\n",
              "          element.innerHTML = '';\n",
              "          dataTable['output_type'] = 'display_data';\n",
              "          await google.colab.output.renderOutput(dataTable, element);\n",
              "          const docLink = document.createElement('div');\n",
              "          docLink.innerHTML = docLinkHtml;\n",
              "          element.appendChild(docLink);\n",
              "        }\n",
              "      </script>\n",
              "    </div>\n",
              "  </div>\n",
              "  "
            ]
          },
          "metadata": {},
          "execution_count": 3
        }
      ]
    },
    {
      "cell_type": "code",
      "source": [
        "# Dropping all of the rows with missing values, entirely\n",
        "df.dropna(axis=0,inplace = True)\n",
        "df"
      ],
      "metadata": {
        "colab": {
          "base_uri": "https://localhost:8080/",
          "height": 423
        },
        "id": "afU15H-u3wSj",
        "outputId": "a6225cfa-a471-42ca-9dcc-ac45b8699a55"
      },
      "execution_count": 5,
      "outputs": [
        {
          "output_type": "execute_result",
          "data": {
            "text/plain": [
              "           Timestamp  Temperature  Humidity\n",
              "0      1/1/2022 0:00         22.3      65.4\n",
              "1      1/1/2022 1:00         21.5      62.1\n",
              "2      1/1/2022 2:00         20.9      59.8\n",
              "3      1/1/2022 3:00         20.5      58.2\n",
              "4      1/1/2022 4:00         20.1      56.7\n",
              "..               ...          ...       ...\n",
              "304  1/11/2022 18:00         32.1      64.0\n",
              "305  1/11/2022 19:00         31.5      62.1\n",
              "306  1/11/2022 20:00         30.7      59.4\n",
              "307  1/11/2022 21:00         30.0      57.2\n",
              "308  1/11/2022 22:00         29.4      55.0\n",
              "\n",
              "[307 rows x 3 columns]"
            ],
            "text/html": [
              "\n",
              "  <div id=\"df-a117e8af-1cc9-4a9a-8502-87797e07d6fc\">\n",
              "    <div class=\"colab-df-container\">\n",
              "      <div>\n",
              "<style scoped>\n",
              "    .dataframe tbody tr th:only-of-type {\n",
              "        vertical-align: middle;\n",
              "    }\n",
              "\n",
              "    .dataframe tbody tr th {\n",
              "        vertical-align: top;\n",
              "    }\n",
              "\n",
              "    .dataframe thead th {\n",
              "        text-align: right;\n",
              "    }\n",
              "</style>\n",
              "<table border=\"1\" class=\"dataframe\">\n",
              "  <thead>\n",
              "    <tr style=\"text-align: right;\">\n",
              "      <th></th>\n",
              "      <th>Timestamp</th>\n",
              "      <th>Temperature</th>\n",
              "      <th>Humidity</th>\n",
              "    </tr>\n",
              "  </thead>\n",
              "  <tbody>\n",
              "    <tr>\n",
              "      <th>0</th>\n",
              "      <td>1/1/2022 0:00</td>\n",
              "      <td>22.3</td>\n",
              "      <td>65.4</td>\n",
              "    </tr>\n",
              "    <tr>\n",
              "      <th>1</th>\n",
              "      <td>1/1/2022 1:00</td>\n",
              "      <td>21.5</td>\n",
              "      <td>62.1</td>\n",
              "    </tr>\n",
              "    <tr>\n",
              "      <th>2</th>\n",
              "      <td>1/1/2022 2:00</td>\n",
              "      <td>20.9</td>\n",
              "      <td>59.8</td>\n",
              "    </tr>\n",
              "    <tr>\n",
              "      <th>3</th>\n",
              "      <td>1/1/2022 3:00</td>\n",
              "      <td>20.5</td>\n",
              "      <td>58.2</td>\n",
              "    </tr>\n",
              "    <tr>\n",
              "      <th>4</th>\n",
              "      <td>1/1/2022 4:00</td>\n",
              "      <td>20.1</td>\n",
              "      <td>56.7</td>\n",
              "    </tr>\n",
              "    <tr>\n",
              "      <th>...</th>\n",
              "      <td>...</td>\n",
              "      <td>...</td>\n",
              "      <td>...</td>\n",
              "    </tr>\n",
              "    <tr>\n",
              "      <th>304</th>\n",
              "      <td>1/11/2022 18:00</td>\n",
              "      <td>32.1</td>\n",
              "      <td>64.0</td>\n",
              "    </tr>\n",
              "    <tr>\n",
              "      <th>305</th>\n",
              "      <td>1/11/2022 19:00</td>\n",
              "      <td>31.5</td>\n",
              "      <td>62.1</td>\n",
              "    </tr>\n",
              "    <tr>\n",
              "      <th>306</th>\n",
              "      <td>1/11/2022 20:00</td>\n",
              "      <td>30.7</td>\n",
              "      <td>59.4</td>\n",
              "    </tr>\n",
              "    <tr>\n",
              "      <th>307</th>\n",
              "      <td>1/11/2022 21:00</td>\n",
              "      <td>30.0</td>\n",
              "      <td>57.2</td>\n",
              "    </tr>\n",
              "    <tr>\n",
              "      <th>308</th>\n",
              "      <td>1/11/2022 22:00</td>\n",
              "      <td>29.4</td>\n",
              "      <td>55.0</td>\n",
              "    </tr>\n",
              "  </tbody>\n",
              "</table>\n",
              "<p>307 rows × 3 columns</p>\n",
              "</div>\n",
              "      <button class=\"colab-df-convert\" onclick=\"convertToInteractive('df-a117e8af-1cc9-4a9a-8502-87797e07d6fc')\"\n",
              "              title=\"Convert this dataframe to an interactive table.\"\n",
              "              style=\"display:none;\">\n",
              "        \n",
              "  <svg xmlns=\"http://www.w3.org/2000/svg\" height=\"24px\"viewBox=\"0 0 24 24\"\n",
              "       width=\"24px\">\n",
              "    <path d=\"M0 0h24v24H0V0z\" fill=\"none\"/>\n",
              "    <path d=\"M18.56 5.44l.94 2.06.94-2.06 2.06-.94-2.06-.94-.94-2.06-.94 2.06-2.06.94zm-11 1L8.5 8.5l.94-2.06 2.06-.94-2.06-.94L8.5 2.5l-.94 2.06-2.06.94zm10 10l.94 2.06.94-2.06 2.06-.94-2.06-.94-.94-2.06-.94 2.06-2.06.94z\"/><path d=\"M17.41 7.96l-1.37-1.37c-.4-.4-.92-.59-1.43-.59-.52 0-1.04.2-1.43.59L10.3 9.45l-7.72 7.72c-.78.78-.78 2.05 0 2.83L4 21.41c.39.39.9.59 1.41.59.51 0 1.02-.2 1.41-.59l7.78-7.78 2.81-2.81c.8-.78.8-2.07 0-2.86zM5.41 20L4 18.59l7.72-7.72 1.47 1.35L5.41 20z\"/>\n",
              "  </svg>\n",
              "      </button>\n",
              "      \n",
              "  <style>\n",
              "    .colab-df-container {\n",
              "      display:flex;\n",
              "      flex-wrap:wrap;\n",
              "      gap: 12px;\n",
              "    }\n",
              "\n",
              "    .colab-df-convert {\n",
              "      background-color: #E8F0FE;\n",
              "      border: none;\n",
              "      border-radius: 50%;\n",
              "      cursor: pointer;\n",
              "      display: none;\n",
              "      fill: #1967D2;\n",
              "      height: 32px;\n",
              "      padding: 0 0 0 0;\n",
              "      width: 32px;\n",
              "    }\n",
              "\n",
              "    .colab-df-convert:hover {\n",
              "      background-color: #E2EBFA;\n",
              "      box-shadow: 0px 1px 2px rgba(60, 64, 67, 0.3), 0px 1px 3px 1px rgba(60, 64, 67, 0.15);\n",
              "      fill: #174EA6;\n",
              "    }\n",
              "\n",
              "    [theme=dark] .colab-df-convert {\n",
              "      background-color: #3B4455;\n",
              "      fill: #D2E3FC;\n",
              "    }\n",
              "\n",
              "    [theme=dark] .colab-df-convert:hover {\n",
              "      background-color: #434B5C;\n",
              "      box-shadow: 0px 1px 3px 1px rgba(0, 0, 0, 0.15);\n",
              "      filter: drop-shadow(0px 1px 2px rgba(0, 0, 0, 0.3));\n",
              "      fill: #FFFFFF;\n",
              "    }\n",
              "  </style>\n",
              "\n",
              "      <script>\n",
              "        const buttonEl =\n",
              "          document.querySelector('#df-a117e8af-1cc9-4a9a-8502-87797e07d6fc button.colab-df-convert');\n",
              "        buttonEl.style.display =\n",
              "          google.colab.kernel.accessAllowed ? 'block' : 'none';\n",
              "\n",
              "        async function convertToInteractive(key) {\n",
              "          const element = document.querySelector('#df-a117e8af-1cc9-4a9a-8502-87797e07d6fc');\n",
              "          const dataTable =\n",
              "            await google.colab.kernel.invokeFunction('convertToInteractive',\n",
              "                                                     [key], {});\n",
              "          if (!dataTable) return;\n",
              "\n",
              "          const docLinkHtml = 'Like what you see? Visit the ' +\n",
              "            '<a target=\"_blank\" href=https://colab.research.google.com/notebooks/data_table.ipynb>data table notebook</a>'\n",
              "            + ' to learn more about interactive tables.';\n",
              "          element.innerHTML = '';\n",
              "          dataTable['output_type'] = 'display_data';\n",
              "          await google.colab.output.renderOutput(dataTable, element);\n",
              "          const docLink = document.createElement('div');\n",
              "          docLink.innerHTML = docLinkHtml;\n",
              "          element.appendChild(docLink);\n",
              "        }\n",
              "      </script>\n",
              "    </div>\n",
              "  </div>\n",
              "  "
            ]
          },
          "metadata": {},
          "execution_count": 5
        }
      ]
    },
    {
      "cell_type": "code",
      "source": [
        "df.shape"
      ],
      "metadata": {
        "colab": {
          "base_uri": "https://localhost:8080/"
        },
        "id": "KSUt6oVds_xH",
        "outputId": "33cc528f-a41f-439c-d3f8-dcd087889b9f"
      },
      "execution_count": 6,
      "outputs": [
        {
          "output_type": "execute_result",
          "data": {
            "text/plain": [
              "(307, 3)"
            ]
          },
          "metadata": {},
          "execution_count": 6
        }
      ]
    },
    {
      "cell_type": "code",
      "source": [
        "# General overlook for the necessary parameters for each feature\n",
        "df.describe()"
      ],
      "metadata": {
        "colab": {
          "base_uri": "https://localhost:8080/",
          "height": 300
        },
        "id": "eOV8Q2YBs_ze",
        "outputId": "012b0d2c-e0a0-42dc-8ad9-ad028130c088"
      },
      "execution_count": 7,
      "outputs": [
        {
          "output_type": "execute_result",
          "data": {
            "text/plain": [
              "       Temperature    Humidity\n",
              "count   307.000000  307.000000\n",
              "mean     26.303257   60.100326\n",
              "std       3.276125    9.095328\n",
              "min      19.700000   42.000000\n",
              "25%      23.800000   52.400000\n",
              "50%      26.300000   59.900000\n",
              "75%      28.850000   67.300000\n",
              "max      33.500000   81.200000"
            ],
            "text/html": [
              "\n",
              "  <div id=\"df-6c3eaf88-8495-4cc7-8c51-9d0cf76c4bc7\">\n",
              "    <div class=\"colab-df-container\">\n",
              "      <div>\n",
              "<style scoped>\n",
              "    .dataframe tbody tr th:only-of-type {\n",
              "        vertical-align: middle;\n",
              "    }\n",
              "\n",
              "    .dataframe tbody tr th {\n",
              "        vertical-align: top;\n",
              "    }\n",
              "\n",
              "    .dataframe thead th {\n",
              "        text-align: right;\n",
              "    }\n",
              "</style>\n",
              "<table border=\"1\" class=\"dataframe\">\n",
              "  <thead>\n",
              "    <tr style=\"text-align: right;\">\n",
              "      <th></th>\n",
              "      <th>Temperature</th>\n",
              "      <th>Humidity</th>\n",
              "    </tr>\n",
              "  </thead>\n",
              "  <tbody>\n",
              "    <tr>\n",
              "      <th>count</th>\n",
              "      <td>307.000000</td>\n",
              "      <td>307.000000</td>\n",
              "    </tr>\n",
              "    <tr>\n",
              "      <th>mean</th>\n",
              "      <td>26.303257</td>\n",
              "      <td>60.100326</td>\n",
              "    </tr>\n",
              "    <tr>\n",
              "      <th>std</th>\n",
              "      <td>3.276125</td>\n",
              "      <td>9.095328</td>\n",
              "    </tr>\n",
              "    <tr>\n",
              "      <th>min</th>\n",
              "      <td>19.700000</td>\n",
              "      <td>42.000000</td>\n",
              "    </tr>\n",
              "    <tr>\n",
              "      <th>25%</th>\n",
              "      <td>23.800000</td>\n",
              "      <td>52.400000</td>\n",
              "    </tr>\n",
              "    <tr>\n",
              "      <th>50%</th>\n",
              "      <td>26.300000</td>\n",
              "      <td>59.900000</td>\n",
              "    </tr>\n",
              "    <tr>\n",
              "      <th>75%</th>\n",
              "      <td>28.850000</td>\n",
              "      <td>67.300000</td>\n",
              "    </tr>\n",
              "    <tr>\n",
              "      <th>max</th>\n",
              "      <td>33.500000</td>\n",
              "      <td>81.200000</td>\n",
              "    </tr>\n",
              "  </tbody>\n",
              "</table>\n",
              "</div>\n",
              "      <button class=\"colab-df-convert\" onclick=\"convertToInteractive('df-6c3eaf88-8495-4cc7-8c51-9d0cf76c4bc7')\"\n",
              "              title=\"Convert this dataframe to an interactive table.\"\n",
              "              style=\"display:none;\">\n",
              "        \n",
              "  <svg xmlns=\"http://www.w3.org/2000/svg\" height=\"24px\"viewBox=\"0 0 24 24\"\n",
              "       width=\"24px\">\n",
              "    <path d=\"M0 0h24v24H0V0z\" fill=\"none\"/>\n",
              "    <path d=\"M18.56 5.44l.94 2.06.94-2.06 2.06-.94-2.06-.94-.94-2.06-.94 2.06-2.06.94zm-11 1L8.5 8.5l.94-2.06 2.06-.94-2.06-.94L8.5 2.5l-.94 2.06-2.06.94zm10 10l.94 2.06.94-2.06 2.06-.94-2.06-.94-.94-2.06-.94 2.06-2.06.94z\"/><path d=\"M17.41 7.96l-1.37-1.37c-.4-.4-.92-.59-1.43-.59-.52 0-1.04.2-1.43.59L10.3 9.45l-7.72 7.72c-.78.78-.78 2.05 0 2.83L4 21.41c.39.39.9.59 1.41.59.51 0 1.02-.2 1.41-.59l7.78-7.78 2.81-2.81c.8-.78.8-2.07 0-2.86zM5.41 20L4 18.59l7.72-7.72 1.47 1.35L5.41 20z\"/>\n",
              "  </svg>\n",
              "      </button>\n",
              "      \n",
              "  <style>\n",
              "    .colab-df-container {\n",
              "      display:flex;\n",
              "      flex-wrap:wrap;\n",
              "      gap: 12px;\n",
              "    }\n",
              "\n",
              "    .colab-df-convert {\n",
              "      background-color: #E8F0FE;\n",
              "      border: none;\n",
              "      border-radius: 50%;\n",
              "      cursor: pointer;\n",
              "      display: none;\n",
              "      fill: #1967D2;\n",
              "      height: 32px;\n",
              "      padding: 0 0 0 0;\n",
              "      width: 32px;\n",
              "    }\n",
              "\n",
              "    .colab-df-convert:hover {\n",
              "      background-color: #E2EBFA;\n",
              "      box-shadow: 0px 1px 2px rgba(60, 64, 67, 0.3), 0px 1px 3px 1px rgba(60, 64, 67, 0.15);\n",
              "      fill: #174EA6;\n",
              "    }\n",
              "\n",
              "    [theme=dark] .colab-df-convert {\n",
              "      background-color: #3B4455;\n",
              "      fill: #D2E3FC;\n",
              "    }\n",
              "\n",
              "    [theme=dark] .colab-df-convert:hover {\n",
              "      background-color: #434B5C;\n",
              "      box-shadow: 0px 1px 3px 1px rgba(0, 0, 0, 0.15);\n",
              "      filter: drop-shadow(0px 1px 2px rgba(0, 0, 0, 0.3));\n",
              "      fill: #FFFFFF;\n",
              "    }\n",
              "  </style>\n",
              "\n",
              "      <script>\n",
              "        const buttonEl =\n",
              "          document.querySelector('#df-6c3eaf88-8495-4cc7-8c51-9d0cf76c4bc7 button.colab-df-convert');\n",
              "        buttonEl.style.display =\n",
              "          google.colab.kernel.accessAllowed ? 'block' : 'none';\n",
              "\n",
              "        async function convertToInteractive(key) {\n",
              "          const element = document.querySelector('#df-6c3eaf88-8495-4cc7-8c51-9d0cf76c4bc7');\n",
              "          const dataTable =\n",
              "            await google.colab.kernel.invokeFunction('convertToInteractive',\n",
              "                                                     [key], {});\n",
              "          if (!dataTable) return;\n",
              "\n",
              "          const docLinkHtml = 'Like what you see? Visit the ' +\n",
              "            '<a target=\"_blank\" href=https://colab.research.google.com/notebooks/data_table.ipynb>data table notebook</a>'\n",
              "            + ' to learn more about interactive tables.';\n",
              "          element.innerHTML = '';\n",
              "          dataTable['output_type'] = 'display_data';\n",
              "          await google.colab.output.renderOutput(dataTable, element);\n",
              "          const docLink = document.createElement('div');\n",
              "          docLink.innerHTML = docLinkHtml;\n",
              "          element.appendChild(docLink);\n",
              "        }\n",
              "      </script>\n",
              "    </div>\n",
              "  </div>\n",
              "  "
            ]
          },
          "metadata": {},
          "execution_count": 7
        }
      ]
    },
    {
      "cell_type": "code",
      "source": [
        "df['Timestamp'].value_counts()"
      ],
      "metadata": {
        "colab": {
          "base_uri": "https://localhost:8080/"
        },
        "id": "RtULgxq7ub1f",
        "outputId": "e3884c66-e762-4e8e-bc3c-90fed2419286"
      },
      "execution_count": 8,
      "outputs": [
        {
          "output_type": "execute_result",
          "data": {
            "text/plain": [
              "1/5/2022 6:00      4\n",
              "1/7/2022 6:00      4\n",
              "1/10/2022 6:00     4\n",
              "1/9/2022 6:00      4\n",
              "1/4/2022 6:00      4\n",
              "                  ..\n",
              "1/5/2022 0:00      1\n",
              "1/5/2022 1:00      1\n",
              "1/5/2022 2:00      1\n",
              "1/5/2022 3:00      1\n",
              "1/11/2022 22:00    1\n",
              "Name: Timestamp, Length: 263, dtype: int64"
            ]
          },
          "metadata": {},
          "execution_count": 8
        }
      ]
    },
    {
      "cell_type": "code",
      "source": [
        "\n",
        "df['Temperature'].describe()"
      ],
      "metadata": {
        "colab": {
          "base_uri": "https://localhost:8080/"
        },
        "id": "2Vogfb4Fub38",
        "outputId": "b9fc31af-0957-45b0-f66a-3c650604a83e"
      },
      "execution_count": 9,
      "outputs": [
        {
          "output_type": "execute_result",
          "data": {
            "text/plain": [
              "count    307.000000\n",
              "mean      26.303257\n",
              "std        3.276125\n",
              "min       19.700000\n",
              "25%       23.800000\n",
              "50%       26.300000\n",
              "75%       28.850000\n",
              "max       33.500000\n",
              "Name: Temperature, dtype: float64"
            ]
          },
          "metadata": {},
          "execution_count": 9
        }
      ]
    },
    {
      "cell_type": "code",
      "source": [
        "# Filling in the missing instance of Temperature with the mean of column\n",
        "df['Temperature'].fillna(df['Temperature'].mean(), inplace = True)"
      ],
      "metadata": {
        "id": "A4Hrmv4mx_gU"
      },
      "execution_count": 10,
      "outputs": []
    },
    {
      "cell_type": "code",
      "source": [
        "df['Humidity'].describe()"
      ],
      "metadata": {
        "colab": {
          "base_uri": "https://localhost:8080/"
        },
        "id": "xda9kRd_x_i6",
        "outputId": "0ed3b2a4-7ee8-4c6b-8ef8-b934df9b6634"
      },
      "execution_count": 11,
      "outputs": [
        {
          "output_type": "execute_result",
          "data": {
            "text/plain": [
              "count    307.000000\n",
              "mean      60.100326\n",
              "std        9.095328\n",
              "min       42.000000\n",
              "25%       52.400000\n",
              "50%       59.900000\n",
              "75%       67.300000\n",
              "max       81.200000\n",
              "Name: Humidity, dtype: float64"
            ]
          },
          "metadata": {},
          "execution_count": 11
        }
      ]
    },
    {
      "cell_type": "code",
      "source": [
        "# Filling in the missing instance of Humidity with the mean of column\n",
        "df['Humidity'].fillna(df['Humidity'].mean(),inplace = True)"
      ],
      "metadata": {
        "id": "0rFB3jdby8J7"
      },
      "execution_count": 12,
      "outputs": []
    },
    {
      "cell_type": "code",
      "source": [
        "df['Humidity'].describe()"
      ],
      "metadata": {
        "colab": {
          "base_uri": "https://localhost:8080/"
        },
        "id": "IO2qk36MzGcF",
        "outputId": "84cd10ef-fa2d-4028-e4e0-46e6280d92d6"
      },
      "execution_count": 13,
      "outputs": [
        {
          "output_type": "execute_result",
          "data": {
            "text/plain": [
              "count    307.000000\n",
              "mean      60.100326\n",
              "std        9.095328\n",
              "min       42.000000\n",
              "25%       52.400000\n",
              "50%       59.900000\n",
              "75%       67.300000\n",
              "max       81.200000\n",
              "Name: Humidity, dtype: float64"
            ]
          },
          "metadata": {},
          "execution_count": 13
        }
      ]
    },
    {
      "cell_type": "code",
      "source": [
        "df['Temperature'].describe()"
      ],
      "metadata": {
        "colab": {
          "base_uri": "https://localhost:8080/"
        },
        "id": "oGRh6yKAx_u3",
        "outputId": "46045991-153f-4444-dde1-fb5258207ea4"
      },
      "execution_count": 14,
      "outputs": [
        {
          "output_type": "execute_result",
          "data": {
            "text/plain": [
              "count    307.000000\n",
              "mean      26.303257\n",
              "std        3.276125\n",
              "min       19.700000\n",
              "25%       23.800000\n",
              "50%       26.300000\n",
              "75%       28.850000\n",
              "max       33.500000\n",
              "Name: Temperature, dtype: float64"
            ]
          },
          "metadata": {},
          "execution_count": 14
        }
      ]
    },
    {
      "cell_type": "code",
      "source": [
        "tmean = df['Temperature'].mean()\n",
        "tstd = df['Temperature'].std()\n",
        "tmedian = df['Temperature'].median()"
      ],
      "metadata": {
        "id": "wAOrLZooub6J"
      },
      "execution_count": 15,
      "outputs": []
    },
    {
      "cell_type": "code",
      "source": [
        "# ALternate methods for median\n",
        "\n",
        "# df1 = np.array(df['Temperature'])\n",
        "# np.percentile(df1,50)\n",
        "\n",
        "tmedian = df['Temperature'].quantile(0.50)"
      ],
      "metadata": {
        "id": "NU9zDbyCub8h"
      },
      "execution_count": 16,
      "outputs": []
    },
    {
      "cell_type": "code",
      "source": [
        "# Extractin mean,median,standard deviation, minimum and maximum of the column Temperature\n",
        "tmean = df['Temperature'].mean()\n",
        "tstd = df['Temperature'].std()\n",
        "tmedian = df['Temperature'].quantile(0.50)\n",
        "tmin = df['Temperature'].min()\n",
        "tmax = df['Temperature'].max()\n",
        "\n",
        "print(\"Temperature Data :->\",\n",
        "      \"mean: \",tmean,\n",
        "      'std: ',tstd,\n",
        "      'median',tmedian,\n",
        "      'Minimum: ',tmin,\n",
        "      'Maximum: ',tmax)"
      ],
      "metadata": {
        "colab": {
          "base_uri": "https://localhost:8080/"
        },
        "id": "LjNt8_7Zub_A",
        "outputId": "738474e6-0f82-42c6-9eab-3917694a0cc5"
      },
      "execution_count": 19,
      "outputs": [
        {
          "output_type": "stream",
          "name": "stdout",
          "text": [
            "Temperature Data :-> mean:  26.30325732899023 std:  3.2761251336116164 median 26.3 Minimum:  19.7 Maximum:  33.5\n"
          ]
        }
      ]
    },
    {
      "cell_type": "code",
      "source": [
        "# Extractin mean,median,standard deviation, minimum and maximum of the column Humidity\n",
        "hmean = df['Humidity'].mean()\n",
        "hstd = df['Humidity'].std()\n",
        "hmedian = df['Humidity'].quantile(0.50)\n",
        "hmin = df['Humidity'].min()\n",
        "hmax = df['Humidity'].max()\n",
        "\n",
        "print(\"Humidity Data :->\",\n",
        "      \"mean: \",hmean,\n",
        "      'std: ',hstd,\n",
        "      'median',hmedian,\n",
        "      'Minimum: ',hmin,\n",
        "      'Maximum: ',hmax)"
      ],
      "metadata": {
        "colab": {
          "base_uri": "https://localhost:8080/"
        },
        "id": "7KzCHy8xucDJ",
        "outputId": "051d0c94-2527-40b2-d030-72c7830a2e36"
      },
      "execution_count": 21,
      "outputs": [
        {
          "output_type": "stream",
          "name": "stdout",
          "text": [
            "Humidity Data :-> mean:  60.10032573289903 std:  9.095328465401968 median 59.9 Minimum:  42.0 Maximum:  81.2\n"
          ]
        }
      ]
    },
    {
      "cell_type": "code",
      "source": [
        "pip install plotly"
      ],
      "metadata": {
        "colab": {
          "base_uri": "https://localhost:8080/"
        },
        "id": "rRrY7470ucIV",
        "outputId": "e55548e1-d350-4393-8d5c-0f8b86bab5f2"
      },
      "execution_count": 22,
      "outputs": [
        {
          "output_type": "stream",
          "name": "stdout",
          "text": [
            "Looking in indexes: https://pypi.org/simple, https://us-python.pkg.dev/colab-wheels/public/simple/\n",
            "Requirement already satisfied: plotly in /usr/local/lib/python3.10/dist-packages (5.13.1)\n",
            "Requirement already satisfied: tenacity>=6.2.0 in /usr/local/lib/python3.10/dist-packages (from plotly) (8.2.2)\n"
          ]
        }
      ]
    },
    {
      "cell_type": "code",
      "source": [
        "import plotly.express as px\n",
        "# Line plot using plotly \n",
        "px.line(data_frame = df\n",
        "            ,x = 'Timestamp'\n",
        "            ,y = df.columns[1:]\n",
        "            ,title = \"LINE PLOT\"\n",
        "            )"
      ],
      "metadata": {
        "colab": {
          "base_uri": "https://localhost:8080/",
          "height": 542
        },
        "id": "pWEWLoxtucLp",
        "outputId": "dd7b548a-bc0c-431b-dc2f-0aa757f39fa9"
      },
      "execution_count": 23,
      "outputs": [
        {
          "output_type": "display_data",
          "data": {
            "text/html": [
              "<html>\n",
              "<head><meta charset=\"utf-8\" /></head>\n",
              "<body>\n",
              "    <div>            <script src=\"https://cdnjs.cloudflare.com/ajax/libs/mathjax/2.7.5/MathJax.js?config=TeX-AMS-MML_SVG\"></script><script type=\"text/javascript\">if (window.MathJax && window.MathJax.Hub && window.MathJax.Hub.Config) {window.MathJax.Hub.Config({SVG: {font: \"STIX-Web\"}});}</script>                <script type=\"text/javascript\">window.PlotlyConfig = {MathJaxConfig: 'local'};</script>\n",
              "        <script src=\"https://cdn.plot.ly/plotly-2.18.2.min.js\"></script>                <div id=\"276972eb-d837-4c4b-b36b-cb440516e9a2\" class=\"plotly-graph-div\" style=\"height:525px; width:100%;\"></div>            <script type=\"text/javascript\">                                    window.PLOTLYENV=window.PLOTLYENV || {};                                    if (document.getElementById(\"276972eb-d837-4c4b-b36b-cb440516e9a2\")) {                    Plotly.newPlot(                        \"276972eb-d837-4c4b-b36b-cb440516e9a2\",                        [{\"hovertemplate\":\"variable=Temperature<br>Timestamp=%{x}<br>value=%{y}<extra></extra>\",\"legendgroup\":\"Temperature\",\"line\":{\"color\":\"#636efa\",\"dash\":\"solid\"},\"marker\":{\"symbol\":\"circle\"},\"mode\":\"lines\",\"name\":\"Temperature\",\"orientation\":\"v\",\"showlegend\":true,\"x\":[\"1/1/2022 0:00\",\"1/1/2022 1:00\",\"1/1/2022 2:00\",\"1/1/2022 3:00\",\"1/1/2022 4:00\",\"1/1/2022 5:00\",\"1/1/2022 6:00\",\"1/1/2022 6:00\",\"1/1/2022 6:00\",\"1/1/2022 6:00\",\"1/1/2022 7:00\",\"1/1/2022 8:00\",\"1/1/2022 9:00\",\"1/1/2022 10:00\",\"1/1/2022 11:00\",\"1/1/2022 12:00\",\"1/1/2022 12:00\",\"1/1/2022 13:00\",\"1/1/2022 14:00\",\"1/1/2022 15:00\",\"1/1/2022 16:00\",\"1/1/2022 17:00\",\"1/1/2022 18:00\",\"1/1/2022 19:00\",\"1/1/2022 20:00\",\"1/1/2022 21:00\",\"1/1/2022 22:00\",\"1/1/2022 23:00\",\"1/2/2022 0:00\",\"1/2/2022 1:00\",\"1/2/2022 2:00\",\"1/2/2022 3:00\",\"1/2/2022 4:00\",\"1/2/2022 5:00\",\"1/2/2022 6:00\",\"1/2/2022 6:00\",\"1/2/2022 6:00\",\"1/2/2022 6:00\",\"1/2/2022 7:00\",\"1/2/2022 8:00\",\"1/2/2022 9:00\",\"1/2/2022 10:00\",\"1/2/2022 11:00\",\"1/2/2022 12:00\",\"1/2/2022 12:00\",\"1/2/2022 13:00\",\"1/2/2022 14:00\",\"1/2/2022 15:00\",\"1/2/2022 16:00\",\"1/2/2022 17:00\",\"1/2/2022 18:00\",\"1/2/2022 19:00\",\"1/2/2022 20:00\",\"1/2/2022 21:00\",\"1/2/2022 22:00\",\"1/2/2022 23:00\",\"1/3/2022 0:00\",\"1/3/2022 1:00\",\"1/3/2022 2:00\",\"1/3/2022 3:00\",\"1/3/2022 4:00\",\"1/3/2022 5:00\",\"1/3/2022 6:00\",\"1/3/2022 6:00\",\"1/3/2022 6:00\",\"1/3/2022 6:00\",\"1/3/2022 7:00\",\"1/3/2022 8:00\",\"1/3/2022 9:00\",\"1/3/2022 10:00\",\"1/3/2022 11:00\",\"1/3/2022 12:00\",\"1/3/2022 12:00\",\"1/3/2022 13:00\",\"1/3/2022 14:00\",\"1/3/2022 15:00\",\"1/3/2022 16:00\",\"1/3/2022 17:00\",\"1/3/2022 18:00\",\"1/3/2022 19:00\",\"1/3/2022 20:00\",\"1/3/2022 21:00\",\"1/3/2022 22:00\",\"1/3/2022 23:00\",\"1/4/2022 0:00\",\"1/4/2022 1:00\",\"1/4/2022 2:00\",\"1/4/2022 3:00\",\"1/4/2022 4:00\",\"1/4/2022 5:00\",\"1/4/2022 6:00\",\"1/4/2022 6:00\",\"1/4/2022 6:00\",\"1/4/2022 6:00\",\"1/4/2022 7:00\",\"1/4/2022 8:00\",\"1/4/2022 9:00\",\"1/4/2022 10:00\",\"1/4/2022 11:00\",\"1/4/2022 12:00\",\"1/4/2022 12:00\",\"1/4/2022 13:00\",\"1/4/2022 14:00\",\"1/4/2022 15:00\",\"1/4/2022 16:00\",\"1/4/2022 17:00\",\"1/4/2022 18:00\",\"1/4/2022 19:00\",\"1/4/2022 20:00\",\"1/4/2022 21:00\",\"1/4/2022 22:00\",\"1/4/2022 23:00\",\"1/5/2022 0:00\",\"1/5/2022 1:00\",\"1/5/2022 2:00\",\"1/5/2022 3:00\",\"1/5/2022 4:00\",\"1/5/2022 5:00\",\"1/5/2022 6:00\",\"1/5/2022 6:00\",\"1/5/2022 6:00\",\"1/5/2022 6:00\",\"1/5/2022 7:00\",\"1/5/2022 8:00\",\"1/5/2022 9:00\",\"1/5/2022 10:00\",\"1/5/2022 11:00\",\"1/5/2022 12:00\",\"1/5/2022 12:00\",\"1/5/2022 13:00\",\"1/5/2022 14:00\",\"1/5/2022 15:00\",\"1/5/2022 16:00\",\"1/5/2022 17:00\",\"1/5/2022 18:00\",\"1/5/2022 19:00\",\"1/5/2022 20:00\",\"1/5/2022 21:00\",\"1/5/2022 22:00\",\"1/5/2022 23:00\",\"1/6/2022 0:00\",\"1/6/2022 1:00\",\"1/6/2022 2:00\",\"1/6/2022 3:00\",\"1/6/2022 4:00\",\"1/6/2022 5:00\",\"1/6/2022 6:00\",\"1/6/2022 6:00\",\"1/6/2022 6:00\",\"1/6/2022 6:00\",\"1/6/2022 7:00\",\"1/6/2022 8:00\",\"1/6/2022 9:00\",\"1/6/2022 10:00\",\"1/6/2022 11:00\",\"1/6/2022 12:00\",\"1/6/2022 12:00\",\"1/6/2022 13:00\",\"1/6/2022 14:00\",\"1/6/2022 15:00\",\"1/6/2022 16:00\",\"1/6/2022 17:00\",\"1/6/2022 18:00\",\"1/6/2022 19:00\",\"1/6/2022 20:00\",\"1/6/2022 21:00\",\"1/6/2022 22:00\",\"1/6/2022 23:00\",\"1/7/2022 0:00\",\"1/7/2022 1:00\",\"1/7/2022 2:00\",\"1/7/2022 3:00\",\"1/7/2022 4:00\",\"1/7/2022 5:00\",\"1/7/2022 6:00\",\"1/7/2022 6:00\",\"1/7/2022 6:00\",\"1/7/2022 6:00\",\"1/7/2022 7:00\",\"1/7/2022 8:00\",\"1/7/2022 9:00\",\"1/7/2022 10:00\",\"1/7/2022 11:00\",\"1/7/2022 12:00\",\"1/7/2022 12:00\",\"1/7/2022 13:00\",\"1/7/2022 14:00\",\"1/7/2022 15:00\",\"1/7/2022 16:00\",\"1/7/2022 17:00\",\"1/7/2022 18:00\",\"1/7/2022 19:00\",\"1/7/2022 20:00\",\"1/7/2022 21:00\",\"1/7/2022 22:00\",\"1/7/2022 23:00\",\"1/8/2022 0:00\",\"1/8/2022 1:00\",\"1/8/2022 2:00\",\"1/8/2022 3:00\",\"1/8/2022 4:00\",\"1/8/2022 5:00\",\"1/8/2022 6:00\",\"1/8/2022 6:00\",\"1/8/2022 6:00\",\"1/8/2022 6:00\",\"1/8/2022 7:00\",\"1/8/2022 8:00\",\"1/8/2022 9:00\",\"1/8/2022 10:00\",\"1/8/2022 11:00\",\"1/8/2022 12:00\",\"1/8/2022 12:00\",\"1/8/2022 13:00\",\"1/8/2022 14:00\",\"1/8/2022 15:00\",\"1/8/2022 16:00\",\"1/8/2022 17:00\",\"1/8/2022 18:00\",\"1/8/2022 19:00\",\"1/8/2022 20:00\",\"1/8/2022 21:00\",\"1/8/2022 22:00\",\"1/8/2022 23:00\",\"1/9/2022 0:00\",\"1/9/2022 1:00\",\"1/9/2022 2:00\",\"1/9/2022 3:00\",\"1/9/2022 4:00\",\"1/9/2022 5:00\",\"1/9/2022 6:00\",\"1/9/2022 6:00\",\"1/9/2022 6:00\",\"1/9/2022 6:00\",\"1/9/2022 7:00\",\"1/9/2022 8:00\",\"1/9/2022 9:00\",\"1/9/2022 10:00\",\"1/9/2022 11:00\",\"1/9/2022 12:00\",\"1/9/2022 12:00\",\"1/9/2022 13:00\",\"1/9/2022 14:00\",\"1/9/2022 15:00\",\"1/9/2022 16:00\",\"1/9/2022 17:00\",\"1/9/2022 18:00\",\"1/9/2022 19:00\",\"1/9/2022 20:00\",\"1/9/2022 21:00\",\"1/9/2022 22:00\",\"1/9/2022 23:00\",\"1/10/2022 0:00\",\"1/10/2022 1:00\",\"1/10/2022 2:00\",\"1/10/2022 3:00\",\"1/10/2022 4:00\",\"1/10/2022 5:00\",\"1/10/2022 6:00\",\"1/10/2022 6:00\",\"1/10/2022 6:00\",\"1/10/2022 6:00\",\"1/10/2022 7:00\",\"1/10/2022 8:00\",\"1/10/2022 9:00\",\"1/10/2022 10:00\",\"1/10/2022 11:00\",\"1/10/2022 12:00\",\"1/10/2022 12:00\",\"1/10/2022 13:00\",\"1/10/2022 14:00\",\"1/10/2022 15:00\",\"1/10/2022 16:00\",\"1/10/2022 17:00\",\"1/10/2022 18:00\",\"1/10/2022 19:00\",\"1/10/2022 20:00\",\"1/10/2022 21:00\",\"1/10/2022 22:00\",\"1/10/2022 23:00\",\"1/11/2022 0:00\",\"1/11/2022 1:00\",\"1/11/2022 2:00\",\"1/11/2022 3:00\",\"1/11/2022 4:00\",\"1/11/2022 5:00\",\"1/11/2022 6:00\",\"1/11/2022 6:00\",\"1/11/2022 6:00\",\"1/11/2022 6:00\",\"1/11/2022 7:00\",\"1/11/2022 8:00\",\"1/11/2022 9:00\",\"1/11/2022 10:00\",\"1/11/2022 11:00\",\"1/11/2022 12:00\",\"1/11/2022 12:00\",\"1/11/2022 13:00\",\"1/11/2022 14:00\",\"1/11/2022 15:00\",\"1/11/2022 16:00\",\"1/11/2022 17:00\",\"1/11/2022 18:00\",\"1/11/2022 19:00\",\"1/11/2022 20:00\",\"1/11/2022 21:00\",\"1/11/2022 22:00\"],\"xaxis\":\"x\",\"y\":[22.3,21.5,20.9,20.5,20.1,19.7,20.3,20.3,20.3,20.3,21.2,22.8,23.9,24.5,25.1,26.5,26.5,27.2,27.8,28.4,28.9,28.1,27.5,26.9,26.1,25.3,24.7,24.1,23.5,22.8,22.2,21.7,20.9,20.3,20.8,20.8,20.8,20.8,21.6,22.9,24.2,24.8,25.4,26.8,26.8,27.4,28.0,28.6,29.1,28.3,27.7,27.1,26.3,25.6,25.0,24.4,23.8,23.1,22.5,21.9,21.2,20.6,21.0,21.0,21.0,21.0,21.9,23.3,24.7,25.3,25.9,27.3,27.3,27.9,28.5,29.1,29.6,28.8,28.2,27.6,26.8,26.1,25.5,24.9,24.3,23.6,23.0,22.4,21.7,21.1,21.5,21.5,21.5,21.5,22.3,23.7,25.1,25.7,26.3,27.7,27.7,28.3,28.9,29.5,30.0,29.2,28.6,28.0,27.2,26.5,25.9,25.3,24.7,24.0,23.4,22.8,22.1,21.5,22.0,22.0,22.0,22.0,22.8,24.2,25.6,26.2,26.8,28.2,28.2,28.8,29.4,30.0,30.5,29.7,29.1,28.5,27.7,27.0,26.4,25.8,25.2,24.5,23.9,23.3,22.6,22.0,22.5,22.5,22.5,22.5,23.3,24.7,26.1,26.7,27.3,28.7,28.7,29.3,29.9,30.5,31.0,30.2,29.6,29.0,28.2,27.5,26.9,26.3,25.7,25.0,24.4,23.8,23.1,22.5,23.0,23.0,23.0,23.0,23.8,25.2,26.6,27.2,27.8,29.2,29.2,29.8,30.4,31.0,31.5,30.7,30.1,29.5,28.7,28.0,27.4,26.8,26.2,25.5,24.9,24.3,23.6,23.0,23.5,23.5,23.5,23.5,24.3,25.7,27.1,27.7,28.3,29.7,29.7,30.3,30.9,31.5,32.0,31.2,30.6,30.0,29.2,28.5,27.9,27.3,26.7,26.0,25.4,24.8,24.1,23.5,24.0,24.0,24.0,24.0,24.8,26.2,27.6,28.2,28.8,30.2,30.2,30.8,31.4,32.0,32.5,31.7,31.1,30.5,29.7,29.0,28.4,27.8,27.2,26.5,25.9,25.3,24.6,24.0,24.5,24.5,24.5,24.5,25.3,26.7,28.1,28.7,29.3,30.7,30.7,31.3,31.9,32.5,33.0,32.2,31.6,31.0,30.2,29.5,28.9,28.3,27.7,27.0,26.4,25.8,25.1,24.5,25.0,25.0,25.0,25.0,25.8,27.2,28.6,29.2,29.8,31.2,31.2,31.8,32.4,33.0,33.5,32.7,32.1,31.5,30.7,30.0,29.4],\"yaxis\":\"y\",\"type\":\"scatter\"},{\"hovertemplate\":\"variable=Humidity<br>Timestamp=%{x}<br>value=%{y}<extra></extra>\",\"legendgroup\":\"Humidity\",\"line\":{\"color\":\"#EF553B\",\"dash\":\"solid\"},\"marker\":{\"symbol\":\"circle\"},\"mode\":\"lines\",\"name\":\"Humidity\",\"orientation\":\"v\",\"showlegend\":true,\"x\":[\"1/1/2022 0:00\",\"1/1/2022 1:00\",\"1/1/2022 2:00\",\"1/1/2022 3:00\",\"1/1/2022 4:00\",\"1/1/2022 5:00\",\"1/1/2022 6:00\",\"1/1/2022 6:00\",\"1/1/2022 6:00\",\"1/1/2022 6:00\",\"1/1/2022 7:00\",\"1/1/2022 8:00\",\"1/1/2022 9:00\",\"1/1/2022 10:00\",\"1/1/2022 11:00\",\"1/1/2022 12:00\",\"1/1/2022 12:00\",\"1/1/2022 13:00\",\"1/1/2022 14:00\",\"1/1/2022 15:00\",\"1/1/2022 16:00\",\"1/1/2022 17:00\",\"1/1/2022 18:00\",\"1/1/2022 19:00\",\"1/1/2022 20:00\",\"1/1/2022 21:00\",\"1/1/2022 22:00\",\"1/1/2022 23:00\",\"1/2/2022 0:00\",\"1/2/2022 1:00\",\"1/2/2022 2:00\",\"1/2/2022 3:00\",\"1/2/2022 4:00\",\"1/2/2022 5:00\",\"1/2/2022 6:00\",\"1/2/2022 6:00\",\"1/2/2022 6:00\",\"1/2/2022 6:00\",\"1/2/2022 7:00\",\"1/2/2022 8:00\",\"1/2/2022 9:00\",\"1/2/2022 10:00\",\"1/2/2022 11:00\",\"1/2/2022 12:00\",\"1/2/2022 12:00\",\"1/2/2022 13:00\",\"1/2/2022 14:00\",\"1/2/2022 15:00\",\"1/2/2022 16:00\",\"1/2/2022 17:00\",\"1/2/2022 18:00\",\"1/2/2022 19:00\",\"1/2/2022 20:00\",\"1/2/2022 21:00\",\"1/2/2022 22:00\",\"1/2/2022 23:00\",\"1/3/2022 0:00\",\"1/3/2022 1:00\",\"1/3/2022 2:00\",\"1/3/2022 3:00\",\"1/3/2022 4:00\",\"1/3/2022 5:00\",\"1/3/2022 6:00\",\"1/3/2022 6:00\",\"1/3/2022 6:00\",\"1/3/2022 6:00\",\"1/3/2022 7:00\",\"1/3/2022 8:00\",\"1/3/2022 9:00\",\"1/3/2022 10:00\",\"1/3/2022 11:00\",\"1/3/2022 12:00\",\"1/3/2022 12:00\",\"1/3/2022 13:00\",\"1/3/2022 14:00\",\"1/3/2022 15:00\",\"1/3/2022 16:00\",\"1/3/2022 17:00\",\"1/3/2022 18:00\",\"1/3/2022 19:00\",\"1/3/2022 20:00\",\"1/3/2022 21:00\",\"1/3/2022 22:00\",\"1/3/2022 23:00\",\"1/4/2022 0:00\",\"1/4/2022 1:00\",\"1/4/2022 2:00\",\"1/4/2022 3:00\",\"1/4/2022 4:00\",\"1/4/2022 5:00\",\"1/4/2022 6:00\",\"1/4/2022 6:00\",\"1/4/2022 6:00\",\"1/4/2022 6:00\",\"1/4/2022 7:00\",\"1/4/2022 8:00\",\"1/4/2022 9:00\",\"1/4/2022 10:00\",\"1/4/2022 11:00\",\"1/4/2022 12:00\",\"1/4/2022 12:00\",\"1/4/2022 13:00\",\"1/4/2022 14:00\",\"1/4/2022 15:00\",\"1/4/2022 16:00\",\"1/4/2022 17:00\",\"1/4/2022 18:00\",\"1/4/2022 19:00\",\"1/4/2022 20:00\",\"1/4/2022 21:00\",\"1/4/2022 22:00\",\"1/4/2022 23:00\",\"1/5/2022 0:00\",\"1/5/2022 1:00\",\"1/5/2022 2:00\",\"1/5/2022 3:00\",\"1/5/2022 4:00\",\"1/5/2022 5:00\",\"1/5/2022 6:00\",\"1/5/2022 6:00\",\"1/5/2022 6:00\",\"1/5/2022 6:00\",\"1/5/2022 7:00\",\"1/5/2022 8:00\",\"1/5/2022 9:00\",\"1/5/2022 10:00\",\"1/5/2022 11:00\",\"1/5/2022 12:00\",\"1/5/2022 12:00\",\"1/5/2022 13:00\",\"1/5/2022 14:00\",\"1/5/2022 15:00\",\"1/5/2022 16:00\",\"1/5/2022 17:00\",\"1/5/2022 18:00\",\"1/5/2022 19:00\",\"1/5/2022 20:00\",\"1/5/2022 21:00\",\"1/5/2022 22:00\",\"1/5/2022 23:00\",\"1/6/2022 0:00\",\"1/6/2022 1:00\",\"1/6/2022 2:00\",\"1/6/2022 3:00\",\"1/6/2022 4:00\",\"1/6/2022 5:00\",\"1/6/2022 6:00\",\"1/6/2022 6:00\",\"1/6/2022 6:00\",\"1/6/2022 6:00\",\"1/6/2022 7:00\",\"1/6/2022 8:00\",\"1/6/2022 9:00\",\"1/6/2022 10:00\",\"1/6/2022 11:00\",\"1/6/2022 12:00\",\"1/6/2022 12:00\",\"1/6/2022 13:00\",\"1/6/2022 14:00\",\"1/6/2022 15:00\",\"1/6/2022 16:00\",\"1/6/2022 17:00\",\"1/6/2022 18:00\",\"1/6/2022 19:00\",\"1/6/2022 20:00\",\"1/6/2022 21:00\",\"1/6/2022 22:00\",\"1/6/2022 23:00\",\"1/7/2022 0:00\",\"1/7/2022 1:00\",\"1/7/2022 2:00\",\"1/7/2022 3:00\",\"1/7/2022 4:00\",\"1/7/2022 5:00\",\"1/7/2022 6:00\",\"1/7/2022 6:00\",\"1/7/2022 6:00\",\"1/7/2022 6:00\",\"1/7/2022 7:00\",\"1/7/2022 8:00\",\"1/7/2022 9:00\",\"1/7/2022 10:00\",\"1/7/2022 11:00\",\"1/7/2022 12:00\",\"1/7/2022 12:00\",\"1/7/2022 13:00\",\"1/7/2022 14:00\",\"1/7/2022 15:00\",\"1/7/2022 16:00\",\"1/7/2022 17:00\",\"1/7/2022 18:00\",\"1/7/2022 19:00\",\"1/7/2022 20:00\",\"1/7/2022 21:00\",\"1/7/2022 22:00\",\"1/7/2022 23:00\",\"1/8/2022 0:00\",\"1/8/2022 1:00\",\"1/8/2022 2:00\",\"1/8/2022 3:00\",\"1/8/2022 4:00\",\"1/8/2022 5:00\",\"1/8/2022 6:00\",\"1/8/2022 6:00\",\"1/8/2022 6:00\",\"1/8/2022 6:00\",\"1/8/2022 7:00\",\"1/8/2022 8:00\",\"1/8/2022 9:00\",\"1/8/2022 10:00\",\"1/8/2022 11:00\",\"1/8/2022 12:00\",\"1/8/2022 12:00\",\"1/8/2022 13:00\",\"1/8/2022 14:00\",\"1/8/2022 15:00\",\"1/8/2022 16:00\",\"1/8/2022 17:00\",\"1/8/2022 18:00\",\"1/8/2022 19:00\",\"1/8/2022 20:00\",\"1/8/2022 21:00\",\"1/8/2022 22:00\",\"1/8/2022 23:00\",\"1/9/2022 0:00\",\"1/9/2022 1:00\",\"1/9/2022 2:00\",\"1/9/2022 3:00\",\"1/9/2022 4:00\",\"1/9/2022 5:00\",\"1/9/2022 6:00\",\"1/9/2022 6:00\",\"1/9/2022 6:00\",\"1/9/2022 6:00\",\"1/9/2022 7:00\",\"1/9/2022 8:00\",\"1/9/2022 9:00\",\"1/9/2022 10:00\",\"1/9/2022 11:00\",\"1/9/2022 12:00\",\"1/9/2022 12:00\",\"1/9/2022 13:00\",\"1/9/2022 14:00\",\"1/9/2022 15:00\",\"1/9/2022 16:00\",\"1/9/2022 17:00\",\"1/9/2022 18:00\",\"1/9/2022 19:00\",\"1/9/2022 20:00\",\"1/9/2022 21:00\",\"1/9/2022 22:00\",\"1/9/2022 23:00\",\"1/10/2022 0:00\",\"1/10/2022 1:00\",\"1/10/2022 2:00\",\"1/10/2022 3:00\",\"1/10/2022 4:00\",\"1/10/2022 5:00\",\"1/10/2022 6:00\",\"1/10/2022 6:00\",\"1/10/2022 6:00\",\"1/10/2022 6:00\",\"1/10/2022 7:00\",\"1/10/2022 8:00\",\"1/10/2022 9:00\",\"1/10/2022 10:00\",\"1/10/2022 11:00\",\"1/10/2022 12:00\",\"1/10/2022 12:00\",\"1/10/2022 13:00\",\"1/10/2022 14:00\",\"1/10/2022 15:00\",\"1/10/2022 16:00\",\"1/10/2022 17:00\",\"1/10/2022 18:00\",\"1/10/2022 19:00\",\"1/10/2022 20:00\",\"1/10/2022 21:00\",\"1/10/2022 22:00\",\"1/10/2022 23:00\",\"1/11/2022 0:00\",\"1/11/2022 1:00\",\"1/11/2022 2:00\",\"1/11/2022 3:00\",\"1/11/2022 4:00\",\"1/11/2022 5:00\",\"1/11/2022 6:00\",\"1/11/2022 6:00\",\"1/11/2022 6:00\",\"1/11/2022 6:00\",\"1/11/2022 7:00\",\"1/11/2022 8:00\",\"1/11/2022 9:00\",\"1/11/2022 10:00\",\"1/11/2022 11:00\",\"1/11/2022 12:00\",\"1/11/2022 12:00\",\"1/11/2022 13:00\",\"1/11/2022 14:00\",\"1/11/2022 15:00\",\"1/11/2022 16:00\",\"1/11/2022 17:00\",\"1/11/2022 18:00\",\"1/11/2022 19:00\",\"1/11/2022 20:00\",\"1/11/2022 21:00\",\"1/11/2022 22:00\"],\"xaxis\":\"x\",\"y\":[65.4,62.1,59.8,58.2,56.7,54.8,57.1,57.1,57.1,57.1,60.9,64.6,67.8,70.2,72.1,75.3,75.3,77.1,78.5,79.8,81.2,77.8,75.7,73.6,70.8,68.1,65.9,63.7,61.9,59.6,57.9,55.8,52.7,51.1,53.2,53.2,53.2,53.2,56.5,60.1,63.3,65.8,68.2,71.4,71.4,73.6,75.1,77.3,79.2,75.6,73.4,71.3,68.7,66.5,64.3,62.4,60.6,58.4,56.6,54.5,52.2,50.5,52.4,52.4,52.4,52.4,55.6,59.0,62.0,64.5,66.9,70.0,70.0,71.8,73.2,75.6,77.9,74.3,72.0,70.1,67.4,65.2,63.0,61.0,59.1,57.0,55.2,53.1,50.7,48.9,51.2,51.2,51.2,51.2,54.5,57.8,61.0,63.5,65.9,69.0,69.0,70.8,72.2,74.5,76.8,73.2,70.9,69.0,66.3,64.1,61.9,59.9,58.0,56.0,54.2,52.1,49.7,47.9,50.2,50.2,50.2,50.2,53.6,56.9,60.0,62.4,64.8,68.0,68.0,69.8,71.2,73.5,75.8,72.2,69.9,68.0,65.3,63.1,60.9,58.9,57.0,55.0,53.2,51.1,48.7,46.9,49.2,49.2,49.2,49.2,52.6,55.9,59.0,61.4,63.8,67.0,67.0,68.8,70.2,72.5,74.8,71.2,68.9,67.0,64.3,62.1,59.9,58.0,56.1,54.1,52.3,50.2,47.8,46.0,48.3,48.3,48.3,48.3,51.7,55.0,58.1,60.5,62.9,66.1,66.1,67.9,69.3,71.6,73.9,70.3,68.0,66.1,63.4,61.2,59.0,57.0,55.1,53.1,51.3,49.2,46.8,45.0,47.3,47.3,47.3,47.3,50.7,54.0,57.1,59.5,61.9,65.1,65.1,66.9,68.3,70.6,72.9,69.3,67.0,65.1,62.4,60.2,58.0,56.0,54.1,52.1,50.3,48.2,45.8,44.0,46.3,46.3,46.3,46.3,49.7,53.0,56.1,58.5,60.9,64.1,64.1,65.9,67.3,69.6,71.9,68.3,66.0,64.1,61.4,59.2,57.0,55.0,53.1,51.1,49.3,47.2,44.8,43.0,45.3,45.3,45.3,45.3,48.7,52.0,55.1,57.5,59.9,63.1,63.1,64.9,66.3,68.6,70.9,67.3,65.0,63.1,60.4,58.2,56.0,54.0,52.1,50.1,48.3,46.2,43.8,42.0,44.3,44.3,44.3,44.3,47.7,51.0,54.1,56.5,58.9,62.1,62.1,63.9,65.3,67.6,69.9,66.3,64.0,62.1,59.4,57.2,55.0],\"yaxis\":\"y\",\"type\":\"scatter\"}],                        {\"template\":{\"data\":{\"histogram2dcontour\":[{\"type\":\"histogram2dcontour\",\"colorbar\":{\"outlinewidth\":0,\"ticks\":\"\"},\"colorscale\":[[0.0,\"#0d0887\"],[0.1111111111111111,\"#46039f\"],[0.2222222222222222,\"#7201a8\"],[0.3333333333333333,\"#9c179e\"],[0.4444444444444444,\"#bd3786\"],[0.5555555555555556,\"#d8576b\"],[0.6666666666666666,\"#ed7953\"],[0.7777777777777778,\"#fb9f3a\"],[0.8888888888888888,\"#fdca26\"],[1.0,\"#f0f921\"]]}],\"choropleth\":[{\"type\":\"choropleth\",\"colorbar\":{\"outlinewidth\":0,\"ticks\":\"\"}}],\"histogram2d\":[{\"type\":\"histogram2d\",\"colorbar\":{\"outlinewidth\":0,\"ticks\":\"\"},\"colorscale\":[[0.0,\"#0d0887\"],[0.1111111111111111,\"#46039f\"],[0.2222222222222222,\"#7201a8\"],[0.3333333333333333,\"#9c179e\"],[0.4444444444444444,\"#bd3786\"],[0.5555555555555556,\"#d8576b\"],[0.6666666666666666,\"#ed7953\"],[0.7777777777777778,\"#fb9f3a\"],[0.8888888888888888,\"#fdca26\"],[1.0,\"#f0f921\"]]}],\"heatmap\":[{\"type\":\"heatmap\",\"colorbar\":{\"outlinewidth\":0,\"ticks\":\"\"},\"colorscale\":[[0.0,\"#0d0887\"],[0.1111111111111111,\"#46039f\"],[0.2222222222222222,\"#7201a8\"],[0.3333333333333333,\"#9c179e\"],[0.4444444444444444,\"#bd3786\"],[0.5555555555555556,\"#d8576b\"],[0.6666666666666666,\"#ed7953\"],[0.7777777777777778,\"#fb9f3a\"],[0.8888888888888888,\"#fdca26\"],[1.0,\"#f0f921\"]]}],\"heatmapgl\":[{\"type\":\"heatmapgl\",\"colorbar\":{\"outlinewidth\":0,\"ticks\":\"\"},\"colorscale\":[[0.0,\"#0d0887\"],[0.1111111111111111,\"#46039f\"],[0.2222222222222222,\"#7201a8\"],[0.3333333333333333,\"#9c179e\"],[0.4444444444444444,\"#bd3786\"],[0.5555555555555556,\"#d8576b\"],[0.6666666666666666,\"#ed7953\"],[0.7777777777777778,\"#fb9f3a\"],[0.8888888888888888,\"#fdca26\"],[1.0,\"#f0f921\"]]}],\"contourcarpet\":[{\"type\":\"contourcarpet\",\"colorbar\":{\"outlinewidth\":0,\"ticks\":\"\"}}],\"contour\":[{\"type\":\"contour\",\"colorbar\":{\"outlinewidth\":0,\"ticks\":\"\"},\"colorscale\":[[0.0,\"#0d0887\"],[0.1111111111111111,\"#46039f\"],[0.2222222222222222,\"#7201a8\"],[0.3333333333333333,\"#9c179e\"],[0.4444444444444444,\"#bd3786\"],[0.5555555555555556,\"#d8576b\"],[0.6666666666666666,\"#ed7953\"],[0.7777777777777778,\"#fb9f3a\"],[0.8888888888888888,\"#fdca26\"],[1.0,\"#f0f921\"]]}],\"surface\":[{\"type\":\"surface\",\"colorbar\":{\"outlinewidth\":0,\"ticks\":\"\"},\"colorscale\":[[0.0,\"#0d0887\"],[0.1111111111111111,\"#46039f\"],[0.2222222222222222,\"#7201a8\"],[0.3333333333333333,\"#9c179e\"],[0.4444444444444444,\"#bd3786\"],[0.5555555555555556,\"#d8576b\"],[0.6666666666666666,\"#ed7953\"],[0.7777777777777778,\"#fb9f3a\"],[0.8888888888888888,\"#fdca26\"],[1.0,\"#f0f921\"]]}],\"mesh3d\":[{\"type\":\"mesh3d\",\"colorbar\":{\"outlinewidth\":0,\"ticks\":\"\"}}],\"scatter\":[{\"fillpattern\":{\"fillmode\":\"overlay\",\"size\":10,\"solidity\":0.2},\"type\":\"scatter\"}],\"parcoords\":[{\"type\":\"parcoords\",\"line\":{\"colorbar\":{\"outlinewidth\":0,\"ticks\":\"\"}}}],\"scatterpolargl\":[{\"type\":\"scatterpolargl\",\"marker\":{\"colorbar\":{\"outlinewidth\":0,\"ticks\":\"\"}}}],\"bar\":[{\"error_x\":{\"color\":\"#2a3f5f\"},\"error_y\":{\"color\":\"#2a3f5f\"},\"marker\":{\"line\":{\"color\":\"#E5ECF6\",\"width\":0.5},\"pattern\":{\"fillmode\":\"overlay\",\"size\":10,\"solidity\":0.2}},\"type\":\"bar\"}],\"scattergeo\":[{\"type\":\"scattergeo\",\"marker\":{\"colorbar\":{\"outlinewidth\":0,\"ticks\":\"\"}}}],\"scatterpolar\":[{\"type\":\"scatterpolar\",\"marker\":{\"colorbar\":{\"outlinewidth\":0,\"ticks\":\"\"}}}],\"histogram\":[{\"marker\":{\"pattern\":{\"fillmode\":\"overlay\",\"size\":10,\"solidity\":0.2}},\"type\":\"histogram\"}],\"scattergl\":[{\"type\":\"scattergl\",\"marker\":{\"colorbar\":{\"outlinewidth\":0,\"ticks\":\"\"}}}],\"scatter3d\":[{\"type\":\"scatter3d\",\"line\":{\"colorbar\":{\"outlinewidth\":0,\"ticks\":\"\"}},\"marker\":{\"colorbar\":{\"outlinewidth\":0,\"ticks\":\"\"}}}],\"scattermapbox\":[{\"type\":\"scattermapbox\",\"marker\":{\"colorbar\":{\"outlinewidth\":0,\"ticks\":\"\"}}}],\"scatterternary\":[{\"type\":\"scatterternary\",\"marker\":{\"colorbar\":{\"outlinewidth\":0,\"ticks\":\"\"}}}],\"scattercarpet\":[{\"type\":\"scattercarpet\",\"marker\":{\"colorbar\":{\"outlinewidth\":0,\"ticks\":\"\"}}}],\"carpet\":[{\"aaxis\":{\"endlinecolor\":\"#2a3f5f\",\"gridcolor\":\"white\",\"linecolor\":\"white\",\"minorgridcolor\":\"white\",\"startlinecolor\":\"#2a3f5f\"},\"baxis\":{\"endlinecolor\":\"#2a3f5f\",\"gridcolor\":\"white\",\"linecolor\":\"white\",\"minorgridcolor\":\"white\",\"startlinecolor\":\"#2a3f5f\"},\"type\":\"carpet\"}],\"table\":[{\"cells\":{\"fill\":{\"color\":\"#EBF0F8\"},\"line\":{\"color\":\"white\"}},\"header\":{\"fill\":{\"color\":\"#C8D4E3\"},\"line\":{\"color\":\"white\"}},\"type\":\"table\"}],\"barpolar\":[{\"marker\":{\"line\":{\"color\":\"#E5ECF6\",\"width\":0.5},\"pattern\":{\"fillmode\":\"overlay\",\"size\":10,\"solidity\":0.2}},\"type\":\"barpolar\"}],\"pie\":[{\"automargin\":true,\"type\":\"pie\"}]},\"layout\":{\"autotypenumbers\":\"strict\",\"colorway\":[\"#636efa\",\"#EF553B\",\"#00cc96\",\"#ab63fa\",\"#FFA15A\",\"#19d3f3\",\"#FF6692\",\"#B6E880\",\"#FF97FF\",\"#FECB52\"],\"font\":{\"color\":\"#2a3f5f\"},\"hovermode\":\"closest\",\"hoverlabel\":{\"align\":\"left\"},\"paper_bgcolor\":\"white\",\"plot_bgcolor\":\"#E5ECF6\",\"polar\":{\"bgcolor\":\"#E5ECF6\",\"angularaxis\":{\"gridcolor\":\"white\",\"linecolor\":\"white\",\"ticks\":\"\"},\"radialaxis\":{\"gridcolor\":\"white\",\"linecolor\":\"white\",\"ticks\":\"\"}},\"ternary\":{\"bgcolor\":\"#E5ECF6\",\"aaxis\":{\"gridcolor\":\"white\",\"linecolor\":\"white\",\"ticks\":\"\"},\"baxis\":{\"gridcolor\":\"white\",\"linecolor\":\"white\",\"ticks\":\"\"},\"caxis\":{\"gridcolor\":\"white\",\"linecolor\":\"white\",\"ticks\":\"\"}},\"coloraxis\":{\"colorbar\":{\"outlinewidth\":0,\"ticks\":\"\"}},\"colorscale\":{\"sequential\":[[0.0,\"#0d0887\"],[0.1111111111111111,\"#46039f\"],[0.2222222222222222,\"#7201a8\"],[0.3333333333333333,\"#9c179e\"],[0.4444444444444444,\"#bd3786\"],[0.5555555555555556,\"#d8576b\"],[0.6666666666666666,\"#ed7953\"],[0.7777777777777778,\"#fb9f3a\"],[0.8888888888888888,\"#fdca26\"],[1.0,\"#f0f921\"]],\"sequentialminus\":[[0.0,\"#0d0887\"],[0.1111111111111111,\"#46039f\"],[0.2222222222222222,\"#7201a8\"],[0.3333333333333333,\"#9c179e\"],[0.4444444444444444,\"#bd3786\"],[0.5555555555555556,\"#d8576b\"],[0.6666666666666666,\"#ed7953\"],[0.7777777777777778,\"#fb9f3a\"],[0.8888888888888888,\"#fdca26\"],[1.0,\"#f0f921\"]],\"diverging\":[[0,\"#8e0152\"],[0.1,\"#c51b7d\"],[0.2,\"#de77ae\"],[0.3,\"#f1b6da\"],[0.4,\"#fde0ef\"],[0.5,\"#f7f7f7\"],[0.6,\"#e6f5d0\"],[0.7,\"#b8e186\"],[0.8,\"#7fbc41\"],[0.9,\"#4d9221\"],[1,\"#276419\"]]},\"xaxis\":{\"gridcolor\":\"white\",\"linecolor\":\"white\",\"ticks\":\"\",\"title\":{\"standoff\":15},\"zerolinecolor\":\"white\",\"automargin\":true,\"zerolinewidth\":2},\"yaxis\":{\"gridcolor\":\"white\",\"linecolor\":\"white\",\"ticks\":\"\",\"title\":{\"standoff\":15},\"zerolinecolor\":\"white\",\"automargin\":true,\"zerolinewidth\":2},\"scene\":{\"xaxis\":{\"backgroundcolor\":\"#E5ECF6\",\"gridcolor\":\"white\",\"linecolor\":\"white\",\"showbackground\":true,\"ticks\":\"\",\"zerolinecolor\":\"white\",\"gridwidth\":2},\"yaxis\":{\"backgroundcolor\":\"#E5ECF6\",\"gridcolor\":\"white\",\"linecolor\":\"white\",\"showbackground\":true,\"ticks\":\"\",\"zerolinecolor\":\"white\",\"gridwidth\":2},\"zaxis\":{\"backgroundcolor\":\"#E5ECF6\",\"gridcolor\":\"white\",\"linecolor\":\"white\",\"showbackground\":true,\"ticks\":\"\",\"zerolinecolor\":\"white\",\"gridwidth\":2}},\"shapedefaults\":{\"line\":{\"color\":\"#2a3f5f\"}},\"annotationdefaults\":{\"arrowcolor\":\"#2a3f5f\",\"arrowhead\":0,\"arrowwidth\":1},\"geo\":{\"bgcolor\":\"white\",\"landcolor\":\"#E5ECF6\",\"subunitcolor\":\"white\",\"showland\":true,\"showlakes\":true,\"lakecolor\":\"white\"},\"title\":{\"x\":0.05},\"mapbox\":{\"style\":\"light\"}}},\"xaxis\":{\"anchor\":\"y\",\"domain\":[0.0,1.0],\"title\":{\"text\":\"Timestamp\"}},\"yaxis\":{\"anchor\":\"x\",\"domain\":[0.0,1.0],\"title\":{\"text\":\"value\"}},\"legend\":{\"title\":{\"text\":\"variable\"},\"tracegroupgap\":0},\"title\":{\"text\":\"LINE PLOT\"}},                        {\"responsive\": true}                    ).then(function(){\n",
              "                            \n",
              "var gd = document.getElementById('276972eb-d837-4c4b-b36b-cb440516e9a2');\n",
              "var x = new MutationObserver(function (mutations, observer) {{\n",
              "        var display = window.getComputedStyle(gd).display;\n",
              "        if (!display || display === 'none') {{\n",
              "            console.log([gd, 'removed!']);\n",
              "            Plotly.purge(gd);\n",
              "            observer.disconnect();\n",
              "        }}\n",
              "}});\n",
              "\n",
              "// Listen for the removal of the full notebook cells\n",
              "var notebookContainer = gd.closest('#notebook-container');\n",
              "if (notebookContainer) {{\n",
              "    x.observe(notebookContainer, {childList: true});\n",
              "}}\n",
              "\n",
              "// Listen for the clearing of the current output cell\n",
              "var outputEl = gd.closest('.output');\n",
              "if (outputEl) {{\n",
              "    x.observe(outputEl, {childList: true});\n",
              "}}\n",
              "\n",
              "                        })                };                            </script>        </div>\n",
              "</body>\n",
              "</html>"
            ]
          },
          "metadata": {}
        }
      ]
    },
    {
      "cell_type": "code",
      "source": [
        "df.columns[1:]"
      ],
      "metadata": {
        "colab": {
          "base_uri": "https://localhost:8080/"
        },
        "id": "rJrAlluUucOZ",
        "outputId": "0f219769-1310-4aef-dbcb-2169a2db1f26"
      },
      "execution_count": 24,
      "outputs": [
        {
          "output_type": "execute_result",
          "data": {
            "text/plain": [
              "Index(['Temperature', 'Humidity'], dtype='object')"
            ]
          },
          "metadata": {},
          "execution_count": 24
        }
      ]
    },
    {
      "cell_type": "code",
      "source": [
        "# converting \"Timestamp\" column to pandas datetime object (to extract discrete values from time and date by using 'dt')\n",
        "df['Timestamp'] = pd.to_datetime(df['Timestamp'])\n",
        "df['Timestamp'].dt.date"
      ],
      "metadata": {
        "colab": {
          "base_uri": "https://localhost:8080/"
        },
        "outputId": "7550b20b-fbfc-4d63-d886-52b5f51bcd05",
        "id": "1EwY4NZSTHsW"
      },
      "execution_count": 33,
      "outputs": [
        {
          "output_type": "execute_result",
          "data": {
            "text/plain": [
              "0      2022-01-01\n",
              "1      2022-01-01\n",
              "2      2022-01-01\n",
              "3      2022-01-01\n",
              "4      2022-01-01\n",
              "          ...    \n",
              "304    2022-01-11\n",
              "305    2022-01-11\n",
              "306    2022-01-11\n",
              "307    2022-01-11\n",
              "308    2022-01-11\n",
              "Name: Timestamp, Length: 307, dtype: object"
            ]
          },
          "metadata": {},
          "execution_count": 33
        }
      ]
    },
    {
      "cell_type": "code",
      "source": [
        "# df['Timestamp'].dt.year\n",
        "# df['Timestamp'].dt.time\n",
        "\n",
        "# ADDing the hour column to dataset to track different times of the day\n",
        "df['Hour'] = df['Timestamp'].dt.hour"
      ],
      "metadata": {
        "id": "lXPAblxtTKCm"
      },
      "execution_count": 43,
      "outputs": []
    },
    {
      "cell_type": "code",
      "source": [
        "df"
      ],
      "metadata": {
        "colab": {
          "base_uri": "https://localhost:8080/",
          "height": 423
        },
        "id": "99Hba1uzTtsO",
        "outputId": "304e610b-e94a-484a-cb0e-291b5078c3f9"
      },
      "execution_count": 44,
      "outputs": [
        {
          "output_type": "execute_result",
          "data": {
            "text/plain": [
              "              Timestamp  Temperature  Humidity  Hour\n",
              "0   2022-01-01 00:00:00         22.3      65.4     0\n",
              "1   2022-01-01 01:00:00         21.5      62.1     1\n",
              "2   2022-01-01 02:00:00         20.9      59.8     2\n",
              "3   2022-01-01 03:00:00         20.5      58.2     3\n",
              "4   2022-01-01 04:00:00         20.1      56.7     4\n",
              "..                  ...          ...       ...   ...\n",
              "304 2022-01-11 18:00:00         32.1      64.0    18\n",
              "305 2022-01-11 19:00:00         31.5      62.1    19\n",
              "306 2022-01-11 20:00:00         30.7      59.4    20\n",
              "307 2022-01-11 21:00:00         30.0      57.2    21\n",
              "308 2022-01-11 22:00:00         29.4      55.0    22\n",
              "\n",
              "[307 rows x 4 columns]"
            ],
            "text/html": [
              "\n",
              "  <div id=\"df-d48f6592-421b-4aba-a96c-09f72d52c451\">\n",
              "    <div class=\"colab-df-container\">\n",
              "      <div>\n",
              "<style scoped>\n",
              "    .dataframe tbody tr th:only-of-type {\n",
              "        vertical-align: middle;\n",
              "    }\n",
              "\n",
              "    .dataframe tbody tr th {\n",
              "        vertical-align: top;\n",
              "    }\n",
              "\n",
              "    .dataframe thead th {\n",
              "        text-align: right;\n",
              "    }\n",
              "</style>\n",
              "<table border=\"1\" class=\"dataframe\">\n",
              "  <thead>\n",
              "    <tr style=\"text-align: right;\">\n",
              "      <th></th>\n",
              "      <th>Timestamp</th>\n",
              "      <th>Temperature</th>\n",
              "      <th>Humidity</th>\n",
              "      <th>Hour</th>\n",
              "    </tr>\n",
              "  </thead>\n",
              "  <tbody>\n",
              "    <tr>\n",
              "      <th>0</th>\n",
              "      <td>2022-01-01 00:00:00</td>\n",
              "      <td>22.3</td>\n",
              "      <td>65.4</td>\n",
              "      <td>0</td>\n",
              "    </tr>\n",
              "    <tr>\n",
              "      <th>1</th>\n",
              "      <td>2022-01-01 01:00:00</td>\n",
              "      <td>21.5</td>\n",
              "      <td>62.1</td>\n",
              "      <td>1</td>\n",
              "    </tr>\n",
              "    <tr>\n",
              "      <th>2</th>\n",
              "      <td>2022-01-01 02:00:00</td>\n",
              "      <td>20.9</td>\n",
              "      <td>59.8</td>\n",
              "      <td>2</td>\n",
              "    </tr>\n",
              "    <tr>\n",
              "      <th>3</th>\n",
              "      <td>2022-01-01 03:00:00</td>\n",
              "      <td>20.5</td>\n",
              "      <td>58.2</td>\n",
              "      <td>3</td>\n",
              "    </tr>\n",
              "    <tr>\n",
              "      <th>4</th>\n",
              "      <td>2022-01-01 04:00:00</td>\n",
              "      <td>20.1</td>\n",
              "      <td>56.7</td>\n",
              "      <td>4</td>\n",
              "    </tr>\n",
              "    <tr>\n",
              "      <th>...</th>\n",
              "      <td>...</td>\n",
              "      <td>...</td>\n",
              "      <td>...</td>\n",
              "      <td>...</td>\n",
              "    </tr>\n",
              "    <tr>\n",
              "      <th>304</th>\n",
              "      <td>2022-01-11 18:00:00</td>\n",
              "      <td>32.1</td>\n",
              "      <td>64.0</td>\n",
              "      <td>18</td>\n",
              "    </tr>\n",
              "    <tr>\n",
              "      <th>305</th>\n",
              "      <td>2022-01-11 19:00:00</td>\n",
              "      <td>31.5</td>\n",
              "      <td>62.1</td>\n",
              "      <td>19</td>\n",
              "    </tr>\n",
              "    <tr>\n",
              "      <th>306</th>\n",
              "      <td>2022-01-11 20:00:00</td>\n",
              "      <td>30.7</td>\n",
              "      <td>59.4</td>\n",
              "      <td>20</td>\n",
              "    </tr>\n",
              "    <tr>\n",
              "      <th>307</th>\n",
              "      <td>2022-01-11 21:00:00</td>\n",
              "      <td>30.0</td>\n",
              "      <td>57.2</td>\n",
              "      <td>21</td>\n",
              "    </tr>\n",
              "    <tr>\n",
              "      <th>308</th>\n",
              "      <td>2022-01-11 22:00:00</td>\n",
              "      <td>29.4</td>\n",
              "      <td>55.0</td>\n",
              "      <td>22</td>\n",
              "    </tr>\n",
              "  </tbody>\n",
              "</table>\n",
              "<p>307 rows × 4 columns</p>\n",
              "</div>\n",
              "      <button class=\"colab-df-convert\" onclick=\"convertToInteractive('df-d48f6592-421b-4aba-a96c-09f72d52c451')\"\n",
              "              title=\"Convert this dataframe to an interactive table.\"\n",
              "              style=\"display:none;\">\n",
              "        \n",
              "  <svg xmlns=\"http://www.w3.org/2000/svg\" height=\"24px\"viewBox=\"0 0 24 24\"\n",
              "       width=\"24px\">\n",
              "    <path d=\"M0 0h24v24H0V0z\" fill=\"none\"/>\n",
              "    <path d=\"M18.56 5.44l.94 2.06.94-2.06 2.06-.94-2.06-.94-.94-2.06-.94 2.06-2.06.94zm-11 1L8.5 8.5l.94-2.06 2.06-.94-2.06-.94L8.5 2.5l-.94 2.06-2.06.94zm10 10l.94 2.06.94-2.06 2.06-.94-2.06-.94-.94-2.06-.94 2.06-2.06.94z\"/><path d=\"M17.41 7.96l-1.37-1.37c-.4-.4-.92-.59-1.43-.59-.52 0-1.04.2-1.43.59L10.3 9.45l-7.72 7.72c-.78.78-.78 2.05 0 2.83L4 21.41c.39.39.9.59 1.41.59.51 0 1.02-.2 1.41-.59l7.78-7.78 2.81-2.81c.8-.78.8-2.07 0-2.86zM5.41 20L4 18.59l7.72-7.72 1.47 1.35L5.41 20z\"/>\n",
              "  </svg>\n",
              "      </button>\n",
              "      \n",
              "  <style>\n",
              "    .colab-df-container {\n",
              "      display:flex;\n",
              "      flex-wrap:wrap;\n",
              "      gap: 12px;\n",
              "    }\n",
              "\n",
              "    .colab-df-convert {\n",
              "      background-color: #E8F0FE;\n",
              "      border: none;\n",
              "      border-radius: 50%;\n",
              "      cursor: pointer;\n",
              "      display: none;\n",
              "      fill: #1967D2;\n",
              "      height: 32px;\n",
              "      padding: 0 0 0 0;\n",
              "      width: 32px;\n",
              "    }\n",
              "\n",
              "    .colab-df-convert:hover {\n",
              "      background-color: #E2EBFA;\n",
              "      box-shadow: 0px 1px 2px rgba(60, 64, 67, 0.3), 0px 1px 3px 1px rgba(60, 64, 67, 0.15);\n",
              "      fill: #174EA6;\n",
              "    }\n",
              "\n",
              "    [theme=dark] .colab-df-convert {\n",
              "      background-color: #3B4455;\n",
              "      fill: #D2E3FC;\n",
              "    }\n",
              "\n",
              "    [theme=dark] .colab-df-convert:hover {\n",
              "      background-color: #434B5C;\n",
              "      box-shadow: 0px 1px 3px 1px rgba(0, 0, 0, 0.15);\n",
              "      filter: drop-shadow(0px 1px 2px rgba(0, 0, 0, 0.3));\n",
              "      fill: #FFFFFF;\n",
              "    }\n",
              "  </style>\n",
              "\n",
              "      <script>\n",
              "        const buttonEl =\n",
              "          document.querySelector('#df-d48f6592-421b-4aba-a96c-09f72d52c451 button.colab-df-convert');\n",
              "        buttonEl.style.display =\n",
              "          google.colab.kernel.accessAllowed ? 'block' : 'none';\n",
              "\n",
              "        async function convertToInteractive(key) {\n",
              "          const element = document.querySelector('#df-d48f6592-421b-4aba-a96c-09f72d52c451');\n",
              "          const dataTable =\n",
              "            await google.colab.kernel.invokeFunction('convertToInteractive',\n",
              "                                                     [key], {});\n",
              "          if (!dataTable) return;\n",
              "\n",
              "          const docLinkHtml = 'Like what you see? Visit the ' +\n",
              "            '<a target=\"_blank\" href=https://colab.research.google.com/notebooks/data_table.ipynb>data table notebook</a>'\n",
              "            + ' to learn more about interactive tables.';\n",
              "          element.innerHTML = '';\n",
              "          dataTable['output_type'] = 'display_data';\n",
              "          await google.colab.output.renderOutput(dataTable, element);\n",
              "          const docLink = document.createElement('div');\n",
              "          docLink.innerHTML = docLinkHtml;\n",
              "          element.appendChild(docLink);\n",
              "        }\n",
              "      </script>\n",
              "    </div>\n",
              "  </div>\n",
              "  "
            ]
          },
          "metadata": {},
          "execution_count": 44
        }
      ]
    },
    {
      "cell_type": "code",
      "source": [
        "# function to label timezones of the day using the particular Hour of the day\n",
        "def label_time(hour):\n",
        "    if 5 <= hour < 12:\n",
        "        return 'morning'\n",
        "    elif 12 <= hour < 17:\n",
        "        return 'afternoon'\n",
        "    elif 17 <= hour < 20:\n",
        "        return 'evening'\n",
        "    else:\n",
        "        return 'night'"
      ],
      "metadata": {
        "id": "zT3i7-ffT1oM"
      },
      "execution_count": 45,
      "outputs": []
    },
    {
      "cell_type": "code",
      "source": [
        "# Applying the labels to each row and storing results in a seperate column\n",
        "# against each row called (LABELLED_TIME)\n",
        "df['LABELLED_TIME'] = df['Hour'].apply(label_time)"
      ],
      "metadata": {
        "id": "nsr7xF_4T1q8"
      },
      "execution_count": 46,
      "outputs": []
    },
    {
      "cell_type": "code",
      "source": [
        "df"
      ],
      "metadata": {
        "colab": {
          "base_uri": "https://localhost:8080/",
          "height": 423
        },
        "id": "GEPrFKDTUOUp",
        "outputId": "38c603a6-c54b-4ae2-b2db-465fd7c701b9"
      },
      "execution_count": 47,
      "outputs": [
        {
          "output_type": "execute_result",
          "data": {
            "text/plain": [
              "              Timestamp  Temperature  Humidity  Hour LABELLED_TIME\n",
              "0   2022-01-01 00:00:00         22.3      65.4     0         night\n",
              "1   2022-01-01 01:00:00         21.5      62.1     1         night\n",
              "2   2022-01-01 02:00:00         20.9      59.8     2         night\n",
              "3   2022-01-01 03:00:00         20.5      58.2     3         night\n",
              "4   2022-01-01 04:00:00         20.1      56.7     4         night\n",
              "..                  ...          ...       ...   ...           ...\n",
              "304 2022-01-11 18:00:00         32.1      64.0    18       evening\n",
              "305 2022-01-11 19:00:00         31.5      62.1    19       evening\n",
              "306 2022-01-11 20:00:00         30.7      59.4    20         night\n",
              "307 2022-01-11 21:00:00         30.0      57.2    21         night\n",
              "308 2022-01-11 22:00:00         29.4      55.0    22         night\n",
              "\n",
              "[307 rows x 5 columns]"
            ],
            "text/html": [
              "\n",
              "  <div id=\"df-c332833a-8ac5-48ed-b19d-d28eda97d845\">\n",
              "    <div class=\"colab-df-container\">\n",
              "      <div>\n",
              "<style scoped>\n",
              "    .dataframe tbody tr th:only-of-type {\n",
              "        vertical-align: middle;\n",
              "    }\n",
              "\n",
              "    .dataframe tbody tr th {\n",
              "        vertical-align: top;\n",
              "    }\n",
              "\n",
              "    .dataframe thead th {\n",
              "        text-align: right;\n",
              "    }\n",
              "</style>\n",
              "<table border=\"1\" class=\"dataframe\">\n",
              "  <thead>\n",
              "    <tr style=\"text-align: right;\">\n",
              "      <th></th>\n",
              "      <th>Timestamp</th>\n",
              "      <th>Temperature</th>\n",
              "      <th>Humidity</th>\n",
              "      <th>Hour</th>\n",
              "      <th>LABELLED_TIME</th>\n",
              "    </tr>\n",
              "  </thead>\n",
              "  <tbody>\n",
              "    <tr>\n",
              "      <th>0</th>\n",
              "      <td>2022-01-01 00:00:00</td>\n",
              "      <td>22.3</td>\n",
              "      <td>65.4</td>\n",
              "      <td>0</td>\n",
              "      <td>night</td>\n",
              "    </tr>\n",
              "    <tr>\n",
              "      <th>1</th>\n",
              "      <td>2022-01-01 01:00:00</td>\n",
              "      <td>21.5</td>\n",
              "      <td>62.1</td>\n",
              "      <td>1</td>\n",
              "      <td>night</td>\n",
              "    </tr>\n",
              "    <tr>\n",
              "      <th>2</th>\n",
              "      <td>2022-01-01 02:00:00</td>\n",
              "      <td>20.9</td>\n",
              "      <td>59.8</td>\n",
              "      <td>2</td>\n",
              "      <td>night</td>\n",
              "    </tr>\n",
              "    <tr>\n",
              "      <th>3</th>\n",
              "      <td>2022-01-01 03:00:00</td>\n",
              "      <td>20.5</td>\n",
              "      <td>58.2</td>\n",
              "      <td>3</td>\n",
              "      <td>night</td>\n",
              "    </tr>\n",
              "    <tr>\n",
              "      <th>4</th>\n",
              "      <td>2022-01-01 04:00:00</td>\n",
              "      <td>20.1</td>\n",
              "      <td>56.7</td>\n",
              "      <td>4</td>\n",
              "      <td>night</td>\n",
              "    </tr>\n",
              "    <tr>\n",
              "      <th>...</th>\n",
              "      <td>...</td>\n",
              "      <td>...</td>\n",
              "      <td>...</td>\n",
              "      <td>...</td>\n",
              "      <td>...</td>\n",
              "    </tr>\n",
              "    <tr>\n",
              "      <th>304</th>\n",
              "      <td>2022-01-11 18:00:00</td>\n",
              "      <td>32.1</td>\n",
              "      <td>64.0</td>\n",
              "      <td>18</td>\n",
              "      <td>evening</td>\n",
              "    </tr>\n",
              "    <tr>\n",
              "      <th>305</th>\n",
              "      <td>2022-01-11 19:00:00</td>\n",
              "      <td>31.5</td>\n",
              "      <td>62.1</td>\n",
              "      <td>19</td>\n",
              "      <td>evening</td>\n",
              "    </tr>\n",
              "    <tr>\n",
              "      <th>306</th>\n",
              "      <td>2022-01-11 20:00:00</td>\n",
              "      <td>30.7</td>\n",
              "      <td>59.4</td>\n",
              "      <td>20</td>\n",
              "      <td>night</td>\n",
              "    </tr>\n",
              "    <tr>\n",
              "      <th>307</th>\n",
              "      <td>2022-01-11 21:00:00</td>\n",
              "      <td>30.0</td>\n",
              "      <td>57.2</td>\n",
              "      <td>21</td>\n",
              "      <td>night</td>\n",
              "    </tr>\n",
              "    <tr>\n",
              "      <th>308</th>\n",
              "      <td>2022-01-11 22:00:00</td>\n",
              "      <td>29.4</td>\n",
              "      <td>55.0</td>\n",
              "      <td>22</td>\n",
              "      <td>night</td>\n",
              "    </tr>\n",
              "  </tbody>\n",
              "</table>\n",
              "<p>307 rows × 5 columns</p>\n",
              "</div>\n",
              "      <button class=\"colab-df-convert\" onclick=\"convertToInteractive('df-c332833a-8ac5-48ed-b19d-d28eda97d845')\"\n",
              "              title=\"Convert this dataframe to an interactive table.\"\n",
              "              style=\"display:none;\">\n",
              "        \n",
              "  <svg xmlns=\"http://www.w3.org/2000/svg\" height=\"24px\"viewBox=\"0 0 24 24\"\n",
              "       width=\"24px\">\n",
              "    <path d=\"M0 0h24v24H0V0z\" fill=\"none\"/>\n",
              "    <path d=\"M18.56 5.44l.94 2.06.94-2.06 2.06-.94-2.06-.94-.94-2.06-.94 2.06-2.06.94zm-11 1L8.5 8.5l.94-2.06 2.06-.94-2.06-.94L8.5 2.5l-.94 2.06-2.06.94zm10 10l.94 2.06.94-2.06 2.06-.94-2.06-.94-.94-2.06-.94 2.06-2.06.94z\"/><path d=\"M17.41 7.96l-1.37-1.37c-.4-.4-.92-.59-1.43-.59-.52 0-1.04.2-1.43.59L10.3 9.45l-7.72 7.72c-.78.78-.78 2.05 0 2.83L4 21.41c.39.39.9.59 1.41.59.51 0 1.02-.2 1.41-.59l7.78-7.78 2.81-2.81c.8-.78.8-2.07 0-2.86zM5.41 20L4 18.59l7.72-7.72 1.47 1.35L5.41 20z\"/>\n",
              "  </svg>\n",
              "      </button>\n",
              "      \n",
              "  <style>\n",
              "    .colab-df-container {\n",
              "      display:flex;\n",
              "      flex-wrap:wrap;\n",
              "      gap: 12px;\n",
              "    }\n",
              "\n",
              "    .colab-df-convert {\n",
              "      background-color: #E8F0FE;\n",
              "      border: none;\n",
              "      border-radius: 50%;\n",
              "      cursor: pointer;\n",
              "      display: none;\n",
              "      fill: #1967D2;\n",
              "      height: 32px;\n",
              "      padding: 0 0 0 0;\n",
              "      width: 32px;\n",
              "    }\n",
              "\n",
              "    .colab-df-convert:hover {\n",
              "      background-color: #E2EBFA;\n",
              "      box-shadow: 0px 1px 2px rgba(60, 64, 67, 0.3), 0px 1px 3px 1px rgba(60, 64, 67, 0.15);\n",
              "      fill: #174EA6;\n",
              "    }\n",
              "\n",
              "    [theme=dark] .colab-df-convert {\n",
              "      background-color: #3B4455;\n",
              "      fill: #D2E3FC;\n",
              "    }\n",
              "\n",
              "    [theme=dark] .colab-df-convert:hover {\n",
              "      background-color: #434B5C;\n",
              "      box-shadow: 0px 1px 3px 1px rgba(0, 0, 0, 0.15);\n",
              "      filter: drop-shadow(0px 1px 2px rgba(0, 0, 0, 0.3));\n",
              "      fill: #FFFFFF;\n",
              "    }\n",
              "  </style>\n",
              "\n",
              "      <script>\n",
              "        const buttonEl =\n",
              "          document.querySelector('#df-c332833a-8ac5-48ed-b19d-d28eda97d845 button.colab-df-convert');\n",
              "        buttonEl.style.display =\n",
              "          google.colab.kernel.accessAllowed ? 'block' : 'none';\n",
              "\n",
              "        async function convertToInteractive(key) {\n",
              "          const element = document.querySelector('#df-c332833a-8ac5-48ed-b19d-d28eda97d845');\n",
              "          const dataTable =\n",
              "            await google.colab.kernel.invokeFunction('convertToInteractive',\n",
              "                                                     [key], {});\n",
              "          if (!dataTable) return;\n",
              "\n",
              "          const docLinkHtml = 'Like what you see? Visit the ' +\n",
              "            '<a target=\"_blank\" href=https://colab.research.google.com/notebooks/data_table.ipynb>data table notebook</a>'\n",
              "            + ' to learn more about interactive tables.';\n",
              "          element.innerHTML = '';\n",
              "          dataTable['output_type'] = 'display_data';\n",
              "          await google.colab.output.renderOutput(dataTable, element);\n",
              "          const docLink = document.createElement('div');\n",
              "          docLink.innerHTML = docLinkHtml;\n",
              "          element.appendChild(docLink);\n",
              "        }\n",
              "      </script>\n",
              "    </div>\n",
              "  </div>\n",
              "  "
            ]
          },
          "metadata": {},
          "execution_count": 47
        }
      ]
    },
    {
      "cell_type": "code",
      "source": [
        "# Scatter plot of Humidity and Temperature w.r.t. time of day (morning, afternoon, evening, night).\n",
        "fig = px.scatter(df, x=\"Temperature\", y=\"Humidity\", color = 'LABELLED_TIME')\n",
        "fig.show()"
      ],
      "metadata": {
        "colab": {
          "base_uri": "https://localhost:8080/",
          "height": 542
        },
        "id": "HQFz2E4BucQz",
        "outputId": "ea7e36f3-e7da-4bc9-9c4e-b7a35c06688e"
      },
      "execution_count": 72,
      "outputs": [
        {
          "output_type": "display_data",
          "data": {
            "text/html": [
              "<html>\n",
              "<head><meta charset=\"utf-8\" /></head>\n",
              "<body>\n",
              "    <div>            <script src=\"https://cdnjs.cloudflare.com/ajax/libs/mathjax/2.7.5/MathJax.js?config=TeX-AMS-MML_SVG\"></script><script type=\"text/javascript\">if (window.MathJax && window.MathJax.Hub && window.MathJax.Hub.Config) {window.MathJax.Hub.Config({SVG: {font: \"STIX-Web\"}});}</script>                <script type=\"text/javascript\">window.PlotlyConfig = {MathJaxConfig: 'local'};</script>\n",
              "        <script src=\"https://cdn.plot.ly/plotly-2.18.2.min.js\"></script>                <div id=\"f6615bb1-c1de-4da2-86cc-bc8ba96180a7\" class=\"plotly-graph-div\" style=\"height:525px; width:100%;\"></div>            <script type=\"text/javascript\">                                    window.PLOTLYENV=window.PLOTLYENV || {};                                    if (document.getElementById(\"f6615bb1-c1de-4da2-86cc-bc8ba96180a7\")) {                    Plotly.newPlot(                        \"f6615bb1-c1de-4da2-86cc-bc8ba96180a7\",                        [{\"hovertemplate\":\"LABELLED_TIME=night<br>Temperature=%{x}<br>Humidity=%{y}<extra></extra>\",\"legendgroup\":\"night\",\"marker\":{\"color\":\"#636efa\",\"symbol\":\"circle\"},\"mode\":\"markers\",\"name\":\"night\",\"orientation\":\"v\",\"showlegend\":true,\"x\":[22.3,21.5,20.9,20.5,20.1,26.1,25.3,24.7,24.1,23.5,22.8,22.2,21.7,20.9,26.3,25.6,25.0,24.4,23.8,23.1,22.5,21.9,21.2,26.8,26.1,25.5,24.9,24.3,23.6,23.0,22.4,21.7,27.2,26.5,25.9,25.3,24.7,24.0,23.4,22.8,22.1,27.7,27.0,26.4,25.8,25.2,24.5,23.9,23.3,22.6,28.2,27.5,26.9,26.3,25.7,25.0,24.4,23.8,23.1,28.7,28.0,27.4,26.8,26.2,25.5,24.9,24.3,23.6,29.2,28.5,27.9,27.3,26.7,26.0,25.4,24.8,24.1,29.7,29.0,28.4,27.8,27.2,26.5,25.9,25.3,24.6,30.2,29.5,28.9,28.3,27.7,27.0,26.4,25.8,25.1,30.7,30.0,29.4],\"xaxis\":\"x\",\"y\":[65.4,62.1,59.8,58.2,56.7,70.8,68.1,65.9,63.7,61.9,59.6,57.9,55.8,52.7,68.7,66.5,64.3,62.4,60.6,58.4,56.6,54.5,52.2,67.4,65.2,63.0,61.0,59.1,57.0,55.2,53.1,50.7,66.3,64.1,61.9,59.9,58.0,56.0,54.2,52.1,49.7,65.3,63.1,60.9,58.9,57.0,55.0,53.2,51.1,48.7,64.3,62.1,59.9,58.0,56.1,54.1,52.3,50.2,47.8,63.4,61.2,59.0,57.0,55.1,53.1,51.3,49.2,46.8,62.4,60.2,58.0,56.0,54.1,52.1,50.3,48.2,45.8,61.4,59.2,57.0,55.0,53.1,51.1,49.3,47.2,44.8,60.4,58.2,56.0,54.0,52.1,50.1,48.3,46.2,43.8,59.4,57.2,55.0],\"yaxis\":\"y\",\"type\":\"scatter\"},{\"hovertemplate\":\"LABELLED_TIME=morning<br>Temperature=%{x}<br>Humidity=%{y}<extra></extra>\",\"legendgroup\":\"morning\",\"marker\":{\"color\":\"#EF553B\",\"symbol\":\"circle\"},\"mode\":\"markers\",\"name\":\"morning\",\"orientation\":\"v\",\"showlegend\":true,\"x\":[19.7,20.3,20.3,20.3,20.3,21.2,22.8,23.9,24.5,25.1,20.3,20.8,20.8,20.8,20.8,21.6,22.9,24.2,24.8,25.4,20.6,21.0,21.0,21.0,21.0,21.9,23.3,24.7,25.3,25.9,21.1,21.5,21.5,21.5,21.5,22.3,23.7,25.1,25.7,26.3,21.5,22.0,22.0,22.0,22.0,22.8,24.2,25.6,26.2,26.8,22.0,22.5,22.5,22.5,22.5,23.3,24.7,26.1,26.7,27.3,22.5,23.0,23.0,23.0,23.0,23.8,25.2,26.6,27.2,27.8,23.0,23.5,23.5,23.5,23.5,24.3,25.7,27.1,27.7,28.3,23.5,24.0,24.0,24.0,24.0,24.8,26.2,27.6,28.2,28.8,24.0,24.5,24.5,24.5,24.5,25.3,26.7,28.1,28.7,29.3,24.5,25.0,25.0,25.0,25.0,25.8,27.2,28.6,29.2,29.8],\"xaxis\":\"x\",\"y\":[54.8,57.1,57.1,57.1,57.1,60.9,64.6,67.8,70.2,72.1,51.1,53.2,53.2,53.2,53.2,56.5,60.1,63.3,65.8,68.2,50.5,52.4,52.4,52.4,52.4,55.6,59.0,62.0,64.5,66.9,48.9,51.2,51.2,51.2,51.2,54.5,57.8,61.0,63.5,65.9,47.9,50.2,50.2,50.2,50.2,53.6,56.9,60.0,62.4,64.8,46.9,49.2,49.2,49.2,49.2,52.6,55.9,59.0,61.4,63.8,46.0,48.3,48.3,48.3,48.3,51.7,55.0,58.1,60.5,62.9,45.0,47.3,47.3,47.3,47.3,50.7,54.0,57.1,59.5,61.9,44.0,46.3,46.3,46.3,46.3,49.7,53.0,56.1,58.5,60.9,43.0,45.3,45.3,45.3,45.3,48.7,52.0,55.1,57.5,59.9,42.0,44.3,44.3,44.3,44.3,47.7,51.0,54.1,56.5,58.9],\"yaxis\":\"y\",\"type\":\"scatter\"},{\"hovertemplate\":\"LABELLED_TIME=afternoon<br>Temperature=%{x}<br>Humidity=%{y}<extra></extra>\",\"legendgroup\":\"afternoon\",\"marker\":{\"color\":\"#00cc96\",\"symbol\":\"circle\"},\"mode\":\"markers\",\"name\":\"afternoon\",\"orientation\":\"v\",\"showlegend\":true,\"x\":[26.5,26.5,27.2,27.8,28.4,28.9,26.8,26.8,27.4,28.0,28.6,29.1,27.3,27.3,27.9,28.5,29.1,29.6,27.7,27.7,28.3,28.9,29.5,30.0,28.2,28.2,28.8,29.4,30.0,30.5,28.7,28.7,29.3,29.9,30.5,31.0,29.2,29.2,29.8,30.4,31.0,31.5,29.7,29.7,30.3,30.9,31.5,32.0,30.2,30.2,30.8,31.4,32.0,32.5,30.7,30.7,31.3,31.9,32.5,33.0,31.2,31.2,31.8,32.4,33.0,33.5],\"xaxis\":\"x\",\"y\":[75.3,75.3,77.1,78.5,79.8,81.2,71.4,71.4,73.6,75.1,77.3,79.2,70.0,70.0,71.8,73.2,75.6,77.9,69.0,69.0,70.8,72.2,74.5,76.8,68.0,68.0,69.8,71.2,73.5,75.8,67.0,67.0,68.8,70.2,72.5,74.8,66.1,66.1,67.9,69.3,71.6,73.9,65.1,65.1,66.9,68.3,70.6,72.9,64.1,64.1,65.9,67.3,69.6,71.9,63.1,63.1,64.9,66.3,68.6,70.9,62.1,62.1,63.9,65.3,67.6,69.9],\"yaxis\":\"y\",\"type\":\"scatter\"},{\"hovertemplate\":\"LABELLED_TIME=evening<br>Temperature=%{x}<br>Humidity=%{y}<extra></extra>\",\"legendgroup\":\"evening\",\"marker\":{\"color\":\"#ab63fa\",\"symbol\":\"circle\"},\"mode\":\"markers\",\"name\":\"evening\",\"orientation\":\"v\",\"showlegend\":true,\"x\":[28.1,27.5,26.9,28.3,27.7,27.1,28.8,28.2,27.6,29.2,28.6,28.0,29.7,29.1,28.5,30.2,29.6,29.0,30.7,30.1,29.5,31.2,30.6,30.0,31.7,31.1,30.5,32.2,31.6,31.0,32.7,32.1,31.5],\"xaxis\":\"x\",\"y\":[77.8,75.7,73.6,75.6,73.4,71.3,74.3,72.0,70.1,73.2,70.9,69.0,72.2,69.9,68.0,71.2,68.9,67.0,70.3,68.0,66.1,69.3,67.0,65.1,68.3,66.0,64.1,67.3,65.0,63.1,66.3,64.0,62.1],\"yaxis\":\"y\",\"type\":\"scatter\"}],                        {\"template\":{\"data\":{\"histogram2dcontour\":[{\"type\":\"histogram2dcontour\",\"colorbar\":{\"outlinewidth\":0,\"ticks\":\"\"},\"colorscale\":[[0.0,\"#0d0887\"],[0.1111111111111111,\"#46039f\"],[0.2222222222222222,\"#7201a8\"],[0.3333333333333333,\"#9c179e\"],[0.4444444444444444,\"#bd3786\"],[0.5555555555555556,\"#d8576b\"],[0.6666666666666666,\"#ed7953\"],[0.7777777777777778,\"#fb9f3a\"],[0.8888888888888888,\"#fdca26\"],[1.0,\"#f0f921\"]]}],\"choropleth\":[{\"type\":\"choropleth\",\"colorbar\":{\"outlinewidth\":0,\"ticks\":\"\"}}],\"histogram2d\":[{\"type\":\"histogram2d\",\"colorbar\":{\"outlinewidth\":0,\"ticks\":\"\"},\"colorscale\":[[0.0,\"#0d0887\"],[0.1111111111111111,\"#46039f\"],[0.2222222222222222,\"#7201a8\"],[0.3333333333333333,\"#9c179e\"],[0.4444444444444444,\"#bd3786\"],[0.5555555555555556,\"#d8576b\"],[0.6666666666666666,\"#ed7953\"],[0.7777777777777778,\"#fb9f3a\"],[0.8888888888888888,\"#fdca26\"],[1.0,\"#f0f921\"]]}],\"heatmap\":[{\"type\":\"heatmap\",\"colorbar\":{\"outlinewidth\":0,\"ticks\":\"\"},\"colorscale\":[[0.0,\"#0d0887\"],[0.1111111111111111,\"#46039f\"],[0.2222222222222222,\"#7201a8\"],[0.3333333333333333,\"#9c179e\"],[0.4444444444444444,\"#bd3786\"],[0.5555555555555556,\"#d8576b\"],[0.6666666666666666,\"#ed7953\"],[0.7777777777777778,\"#fb9f3a\"],[0.8888888888888888,\"#fdca26\"],[1.0,\"#f0f921\"]]}],\"heatmapgl\":[{\"type\":\"heatmapgl\",\"colorbar\":{\"outlinewidth\":0,\"ticks\":\"\"},\"colorscale\":[[0.0,\"#0d0887\"],[0.1111111111111111,\"#46039f\"],[0.2222222222222222,\"#7201a8\"],[0.3333333333333333,\"#9c179e\"],[0.4444444444444444,\"#bd3786\"],[0.5555555555555556,\"#d8576b\"],[0.6666666666666666,\"#ed7953\"],[0.7777777777777778,\"#fb9f3a\"],[0.8888888888888888,\"#fdca26\"],[1.0,\"#f0f921\"]]}],\"contourcarpet\":[{\"type\":\"contourcarpet\",\"colorbar\":{\"outlinewidth\":0,\"ticks\":\"\"}}],\"contour\":[{\"type\":\"contour\",\"colorbar\":{\"outlinewidth\":0,\"ticks\":\"\"},\"colorscale\":[[0.0,\"#0d0887\"],[0.1111111111111111,\"#46039f\"],[0.2222222222222222,\"#7201a8\"],[0.3333333333333333,\"#9c179e\"],[0.4444444444444444,\"#bd3786\"],[0.5555555555555556,\"#d8576b\"],[0.6666666666666666,\"#ed7953\"],[0.7777777777777778,\"#fb9f3a\"],[0.8888888888888888,\"#fdca26\"],[1.0,\"#f0f921\"]]}],\"surface\":[{\"type\":\"surface\",\"colorbar\":{\"outlinewidth\":0,\"ticks\":\"\"},\"colorscale\":[[0.0,\"#0d0887\"],[0.1111111111111111,\"#46039f\"],[0.2222222222222222,\"#7201a8\"],[0.3333333333333333,\"#9c179e\"],[0.4444444444444444,\"#bd3786\"],[0.5555555555555556,\"#d8576b\"],[0.6666666666666666,\"#ed7953\"],[0.7777777777777778,\"#fb9f3a\"],[0.8888888888888888,\"#fdca26\"],[1.0,\"#f0f921\"]]}],\"mesh3d\":[{\"type\":\"mesh3d\",\"colorbar\":{\"outlinewidth\":0,\"ticks\":\"\"}}],\"scatter\":[{\"fillpattern\":{\"fillmode\":\"overlay\",\"size\":10,\"solidity\":0.2},\"type\":\"scatter\"}],\"parcoords\":[{\"type\":\"parcoords\",\"line\":{\"colorbar\":{\"outlinewidth\":0,\"ticks\":\"\"}}}],\"scatterpolargl\":[{\"type\":\"scatterpolargl\",\"marker\":{\"colorbar\":{\"outlinewidth\":0,\"ticks\":\"\"}}}],\"bar\":[{\"error_x\":{\"color\":\"#2a3f5f\"},\"error_y\":{\"color\":\"#2a3f5f\"},\"marker\":{\"line\":{\"color\":\"#E5ECF6\",\"width\":0.5},\"pattern\":{\"fillmode\":\"overlay\",\"size\":10,\"solidity\":0.2}},\"type\":\"bar\"}],\"scattergeo\":[{\"type\":\"scattergeo\",\"marker\":{\"colorbar\":{\"outlinewidth\":0,\"ticks\":\"\"}}}],\"scatterpolar\":[{\"type\":\"scatterpolar\",\"marker\":{\"colorbar\":{\"outlinewidth\":0,\"ticks\":\"\"}}}],\"histogram\":[{\"marker\":{\"pattern\":{\"fillmode\":\"overlay\",\"size\":10,\"solidity\":0.2}},\"type\":\"histogram\"}],\"scattergl\":[{\"type\":\"scattergl\",\"marker\":{\"colorbar\":{\"outlinewidth\":0,\"ticks\":\"\"}}}],\"scatter3d\":[{\"type\":\"scatter3d\",\"line\":{\"colorbar\":{\"outlinewidth\":0,\"ticks\":\"\"}},\"marker\":{\"colorbar\":{\"outlinewidth\":0,\"ticks\":\"\"}}}],\"scattermapbox\":[{\"type\":\"scattermapbox\",\"marker\":{\"colorbar\":{\"outlinewidth\":0,\"ticks\":\"\"}}}],\"scatterternary\":[{\"type\":\"scatterternary\",\"marker\":{\"colorbar\":{\"outlinewidth\":0,\"ticks\":\"\"}}}],\"scattercarpet\":[{\"type\":\"scattercarpet\",\"marker\":{\"colorbar\":{\"outlinewidth\":0,\"ticks\":\"\"}}}],\"carpet\":[{\"aaxis\":{\"endlinecolor\":\"#2a3f5f\",\"gridcolor\":\"white\",\"linecolor\":\"white\",\"minorgridcolor\":\"white\",\"startlinecolor\":\"#2a3f5f\"},\"baxis\":{\"endlinecolor\":\"#2a3f5f\",\"gridcolor\":\"white\",\"linecolor\":\"white\",\"minorgridcolor\":\"white\",\"startlinecolor\":\"#2a3f5f\"},\"type\":\"carpet\"}],\"table\":[{\"cells\":{\"fill\":{\"color\":\"#EBF0F8\"},\"line\":{\"color\":\"white\"}},\"header\":{\"fill\":{\"color\":\"#C8D4E3\"},\"line\":{\"color\":\"white\"}},\"type\":\"table\"}],\"barpolar\":[{\"marker\":{\"line\":{\"color\":\"#E5ECF6\",\"width\":0.5},\"pattern\":{\"fillmode\":\"overlay\",\"size\":10,\"solidity\":0.2}},\"type\":\"barpolar\"}],\"pie\":[{\"automargin\":true,\"type\":\"pie\"}]},\"layout\":{\"autotypenumbers\":\"strict\",\"colorway\":[\"#636efa\",\"#EF553B\",\"#00cc96\",\"#ab63fa\",\"#FFA15A\",\"#19d3f3\",\"#FF6692\",\"#B6E880\",\"#FF97FF\",\"#FECB52\"],\"font\":{\"color\":\"#2a3f5f\"},\"hovermode\":\"closest\",\"hoverlabel\":{\"align\":\"left\"},\"paper_bgcolor\":\"white\",\"plot_bgcolor\":\"#E5ECF6\",\"polar\":{\"bgcolor\":\"#E5ECF6\",\"angularaxis\":{\"gridcolor\":\"white\",\"linecolor\":\"white\",\"ticks\":\"\"},\"radialaxis\":{\"gridcolor\":\"white\",\"linecolor\":\"white\",\"ticks\":\"\"}},\"ternary\":{\"bgcolor\":\"#E5ECF6\",\"aaxis\":{\"gridcolor\":\"white\",\"linecolor\":\"white\",\"ticks\":\"\"},\"baxis\":{\"gridcolor\":\"white\",\"linecolor\":\"white\",\"ticks\":\"\"},\"caxis\":{\"gridcolor\":\"white\",\"linecolor\":\"white\",\"ticks\":\"\"}},\"coloraxis\":{\"colorbar\":{\"outlinewidth\":0,\"ticks\":\"\"}},\"colorscale\":{\"sequential\":[[0.0,\"#0d0887\"],[0.1111111111111111,\"#46039f\"],[0.2222222222222222,\"#7201a8\"],[0.3333333333333333,\"#9c179e\"],[0.4444444444444444,\"#bd3786\"],[0.5555555555555556,\"#d8576b\"],[0.6666666666666666,\"#ed7953\"],[0.7777777777777778,\"#fb9f3a\"],[0.8888888888888888,\"#fdca26\"],[1.0,\"#f0f921\"]],\"sequentialminus\":[[0.0,\"#0d0887\"],[0.1111111111111111,\"#46039f\"],[0.2222222222222222,\"#7201a8\"],[0.3333333333333333,\"#9c179e\"],[0.4444444444444444,\"#bd3786\"],[0.5555555555555556,\"#d8576b\"],[0.6666666666666666,\"#ed7953\"],[0.7777777777777778,\"#fb9f3a\"],[0.8888888888888888,\"#fdca26\"],[1.0,\"#f0f921\"]],\"diverging\":[[0,\"#8e0152\"],[0.1,\"#c51b7d\"],[0.2,\"#de77ae\"],[0.3,\"#f1b6da\"],[0.4,\"#fde0ef\"],[0.5,\"#f7f7f7\"],[0.6,\"#e6f5d0\"],[0.7,\"#b8e186\"],[0.8,\"#7fbc41\"],[0.9,\"#4d9221\"],[1,\"#276419\"]]},\"xaxis\":{\"gridcolor\":\"white\",\"linecolor\":\"white\",\"ticks\":\"\",\"title\":{\"standoff\":15},\"zerolinecolor\":\"white\",\"automargin\":true,\"zerolinewidth\":2},\"yaxis\":{\"gridcolor\":\"white\",\"linecolor\":\"white\",\"ticks\":\"\",\"title\":{\"standoff\":15},\"zerolinecolor\":\"white\",\"automargin\":true,\"zerolinewidth\":2},\"scene\":{\"xaxis\":{\"backgroundcolor\":\"#E5ECF6\",\"gridcolor\":\"white\",\"linecolor\":\"white\",\"showbackground\":true,\"ticks\":\"\",\"zerolinecolor\":\"white\",\"gridwidth\":2},\"yaxis\":{\"backgroundcolor\":\"#E5ECF6\",\"gridcolor\":\"white\",\"linecolor\":\"white\",\"showbackground\":true,\"ticks\":\"\",\"zerolinecolor\":\"white\",\"gridwidth\":2},\"zaxis\":{\"backgroundcolor\":\"#E5ECF6\",\"gridcolor\":\"white\",\"linecolor\":\"white\",\"showbackground\":true,\"ticks\":\"\",\"zerolinecolor\":\"white\",\"gridwidth\":2}},\"shapedefaults\":{\"line\":{\"color\":\"#2a3f5f\"}},\"annotationdefaults\":{\"arrowcolor\":\"#2a3f5f\",\"arrowhead\":0,\"arrowwidth\":1},\"geo\":{\"bgcolor\":\"white\",\"landcolor\":\"#E5ECF6\",\"subunitcolor\":\"white\",\"showland\":true,\"showlakes\":true,\"lakecolor\":\"white\"},\"title\":{\"x\":0.05},\"mapbox\":{\"style\":\"light\"}}},\"xaxis\":{\"anchor\":\"y\",\"domain\":[0.0,1.0],\"title\":{\"text\":\"Temperature\"}},\"yaxis\":{\"anchor\":\"x\",\"domain\":[0.0,1.0],\"title\":{\"text\":\"Humidity\"}},\"legend\":{\"title\":{\"text\":\"LABELLED_TIME\"},\"tracegroupgap\":0},\"margin\":{\"t\":60}},                        {\"responsive\": true}                    ).then(function(){\n",
              "                            \n",
              "var gd = document.getElementById('f6615bb1-c1de-4da2-86cc-bc8ba96180a7');\n",
              "var x = new MutationObserver(function (mutations, observer) {{\n",
              "        var display = window.getComputedStyle(gd).display;\n",
              "        if (!display || display === 'none') {{\n",
              "            console.log([gd, 'removed!']);\n",
              "            Plotly.purge(gd);\n",
              "            observer.disconnect();\n",
              "        }}\n",
              "}});\n",
              "\n",
              "// Listen for the removal of the full notebook cells\n",
              "var notebookContainer = gd.closest('#notebook-container');\n",
              "if (notebookContainer) {{\n",
              "    x.observe(notebookContainer, {childList: true});\n",
              "}}\n",
              "\n",
              "// Listen for the clearing of the current output cell\n",
              "var outputEl = gd.closest('.output');\n",
              "if (outputEl) {{\n",
              "    x.observe(outputEl, {childList: true});\n",
              "}}\n",
              "\n",
              "                        })                };                            </script>        </div>\n",
              "</body>\n",
              "</html>"
            ]
          },
          "metadata": {}
        }
      ]
    },
    {
      "cell_type": "code",
      "source": [
        "# General Heatmap\n",
        "fig = px.imshow([df['Humidity'],df['Temperature'],df['Hour']], labels=dict(y=\"Features\",color = 'Intensity'),\n",
        "                y=['Humidity', 'Temperature', 'Hours (Day_time)']\n",
        "               )\n",
        "fig.show()"
      ],
      "metadata": {
        "colab": {
          "base_uri": "https://localhost:8080/",
          "height": 542
        },
        "id": "9T1UEkyeucTs",
        "outputId": "3418fd2b-ec6b-438f-abc0-eeaccce225a1"
      },
      "execution_count": 124,
      "outputs": [
        {
          "output_type": "display_data",
          "data": {
            "text/html": [
              "<html>\n",
              "<head><meta charset=\"utf-8\" /></head>\n",
              "<body>\n",
              "    <div>            <script src=\"https://cdnjs.cloudflare.com/ajax/libs/mathjax/2.7.5/MathJax.js?config=TeX-AMS-MML_SVG\"></script><script type=\"text/javascript\">if (window.MathJax && window.MathJax.Hub && window.MathJax.Hub.Config) {window.MathJax.Hub.Config({SVG: {font: \"STIX-Web\"}});}</script>                <script type=\"text/javascript\">window.PlotlyConfig = {MathJaxConfig: 'local'};</script>\n",
              "        <script src=\"https://cdn.plot.ly/plotly-2.18.2.min.js\"></script>                <div id=\"4feb7fed-8c1d-4703-8d0a-bcbf51e4ebc3\" class=\"plotly-graph-div\" style=\"height:525px; width:100%;\"></div>            <script type=\"text/javascript\">                                    window.PLOTLYENV=window.PLOTLYENV || {};                                    if (document.getElementById(\"4feb7fed-8c1d-4703-8d0a-bcbf51e4ebc3\")) {                    Plotly.newPlot(                        \"4feb7fed-8c1d-4703-8d0a-bcbf51e4ebc3\",                        [{\"coloraxis\":\"coloraxis\",\"name\":\"0\",\"y\":[\"Humidity\",\"Temperature\",\"Hours (Day_time)\"],\"z\":[[65.4,62.1,59.8,58.2,56.7,54.8,57.1,57.1,57.1,57.1,60.9,64.6,67.8,70.2,72.1,75.3,75.3,77.1,78.5,79.8,81.2,77.8,75.7,73.6,70.8,68.1,65.9,63.7,61.9,59.6,57.9,55.8,52.7,51.1,53.2,53.2,53.2,53.2,56.5,60.1,63.3,65.8,68.2,71.4,71.4,73.6,75.1,77.3,79.2,75.6,73.4,71.3,68.7,66.5,64.3,62.4,60.6,58.4,56.6,54.5,52.2,50.5,52.4,52.4,52.4,52.4,55.6,59.0,62.0,64.5,66.9,70.0,70.0,71.8,73.2,75.6,77.9,74.3,72.0,70.1,67.4,65.2,63.0,61.0,59.1,57.0,55.2,53.1,50.7,48.9,51.2,51.2,51.2,51.2,54.5,57.8,61.0,63.5,65.9,69.0,69.0,70.8,72.2,74.5,76.8,73.2,70.9,69.0,66.3,64.1,61.9,59.9,58.0,56.0,54.2,52.1,49.7,47.9,50.2,50.2,50.2,50.2,53.6,56.9,60.0,62.4,64.8,68.0,68.0,69.8,71.2,73.5,75.8,72.2,69.9,68.0,65.3,63.1,60.9,58.9,57.0,55.0,53.2,51.1,48.7,46.9,49.2,49.2,49.2,49.2,52.6,55.9,59.0,61.4,63.8,67.0,67.0,68.8,70.2,72.5,74.8,71.2,68.9,67.0,64.3,62.1,59.9,58.0,56.1,54.1,52.3,50.2,47.8,46.0,48.3,48.3,48.3,48.3,51.7,55.0,58.1,60.5,62.9,66.1,66.1,67.9,69.3,71.6,73.9,70.3,68.0,66.1,63.4,61.2,59.0,57.0,55.1,53.1,51.3,49.2,46.8,45.0,47.3,47.3,47.3,47.3,50.7,54.0,57.1,59.5,61.9,65.1,65.1,66.9,68.3,70.6,72.9,69.3,67.0,65.1,62.4,60.2,58.0,56.0,54.1,52.1,50.3,48.2,45.8,44.0,46.3,46.3,46.3,46.3,49.7,53.0,56.1,58.5,60.9,64.1,64.1,65.9,67.3,69.6,71.9,68.3,66.0,64.1,61.4,59.2,57.0,55.0,53.1,51.1,49.3,47.2,44.8,43.0,45.3,45.3,45.3,45.3,48.7,52.0,55.1,57.5,59.9,63.1,63.1,64.9,66.3,68.6,70.9,67.3,65.0,63.1,60.4,58.2,56.0,54.0,52.1,50.1,48.3,46.2,43.8,42.0,44.3,44.3,44.3,44.3,47.7,51.0,54.1,56.5,58.9,62.1,62.1,63.9,65.3,67.6,69.9,66.3,64.0,62.1,59.4,57.2,55.0],[22.3,21.5,20.9,20.5,20.1,19.7,20.3,20.3,20.3,20.3,21.2,22.8,23.9,24.5,25.1,26.5,26.5,27.2,27.8,28.4,28.9,28.1,27.5,26.9,26.1,25.3,24.7,24.1,23.5,22.8,22.2,21.7,20.9,20.3,20.8,20.8,20.8,20.8,21.6,22.9,24.2,24.8,25.4,26.8,26.8,27.4,28.0,28.6,29.1,28.3,27.7,27.1,26.3,25.6,25.0,24.4,23.8,23.1,22.5,21.9,21.2,20.6,21.0,21.0,21.0,21.0,21.9,23.3,24.7,25.3,25.9,27.3,27.3,27.9,28.5,29.1,29.6,28.8,28.2,27.6,26.8,26.1,25.5,24.9,24.3,23.6,23.0,22.4,21.7,21.1,21.5,21.5,21.5,21.5,22.3,23.7,25.1,25.7,26.3,27.7,27.7,28.3,28.9,29.5,30.0,29.2,28.6,28.0,27.2,26.5,25.9,25.3,24.7,24.0,23.4,22.8,22.1,21.5,22.0,22.0,22.0,22.0,22.8,24.2,25.6,26.2,26.8,28.2,28.2,28.8,29.4,30.0,30.5,29.7,29.1,28.5,27.7,27.0,26.4,25.8,25.2,24.5,23.9,23.3,22.6,22.0,22.5,22.5,22.5,22.5,23.3,24.7,26.1,26.7,27.3,28.7,28.7,29.3,29.9,30.5,31.0,30.2,29.6,29.0,28.2,27.5,26.9,26.3,25.7,25.0,24.4,23.8,23.1,22.5,23.0,23.0,23.0,23.0,23.8,25.2,26.6,27.2,27.8,29.2,29.2,29.8,30.4,31.0,31.5,30.7,30.1,29.5,28.7,28.0,27.4,26.8,26.2,25.5,24.9,24.3,23.6,23.0,23.5,23.5,23.5,23.5,24.3,25.7,27.1,27.7,28.3,29.7,29.7,30.3,30.9,31.5,32.0,31.2,30.6,30.0,29.2,28.5,27.9,27.3,26.7,26.0,25.4,24.8,24.1,23.5,24.0,24.0,24.0,24.0,24.8,26.2,27.6,28.2,28.8,30.2,30.2,30.8,31.4,32.0,32.5,31.7,31.1,30.5,29.7,29.0,28.4,27.8,27.2,26.5,25.9,25.3,24.6,24.0,24.5,24.5,24.5,24.5,25.3,26.7,28.1,28.7,29.3,30.7,30.7,31.3,31.9,32.5,33.0,32.2,31.6,31.0,30.2,29.5,28.9,28.3,27.7,27.0,26.4,25.8,25.1,24.5,25.0,25.0,25.0,25.0,25.8,27.2,28.6,29.2,29.8,31.2,31.2,31.8,32.4,33.0,33.5,32.7,32.1,31.5,30.7,30.0,29.4],[0.0,1.0,2.0,3.0,4.0,5.0,6.0,6.0,6.0,6.0,7.0,8.0,9.0,10.0,11.0,12.0,12.0,13.0,14.0,15.0,16.0,17.0,18.0,19.0,20.0,21.0,22.0,23.0,0.0,1.0,2.0,3.0,4.0,5.0,6.0,6.0,6.0,6.0,7.0,8.0,9.0,10.0,11.0,12.0,12.0,13.0,14.0,15.0,16.0,17.0,18.0,19.0,20.0,21.0,22.0,23.0,0.0,1.0,2.0,3.0,4.0,5.0,6.0,6.0,6.0,6.0,7.0,8.0,9.0,10.0,11.0,12.0,12.0,13.0,14.0,15.0,16.0,17.0,18.0,19.0,20.0,21.0,22.0,23.0,0.0,1.0,2.0,3.0,4.0,5.0,6.0,6.0,6.0,6.0,7.0,8.0,9.0,10.0,11.0,12.0,12.0,13.0,14.0,15.0,16.0,17.0,18.0,19.0,20.0,21.0,22.0,23.0,0.0,1.0,2.0,3.0,4.0,5.0,6.0,6.0,6.0,6.0,7.0,8.0,9.0,10.0,11.0,12.0,12.0,13.0,14.0,15.0,16.0,17.0,18.0,19.0,20.0,21.0,22.0,23.0,0.0,1.0,2.0,3.0,4.0,5.0,6.0,6.0,6.0,6.0,7.0,8.0,9.0,10.0,11.0,12.0,12.0,13.0,14.0,15.0,16.0,17.0,18.0,19.0,20.0,21.0,22.0,23.0,0.0,1.0,2.0,3.0,4.0,5.0,6.0,6.0,6.0,6.0,7.0,8.0,9.0,10.0,11.0,12.0,12.0,13.0,14.0,15.0,16.0,17.0,18.0,19.0,20.0,21.0,22.0,23.0,0.0,1.0,2.0,3.0,4.0,5.0,6.0,6.0,6.0,6.0,7.0,8.0,9.0,10.0,11.0,12.0,12.0,13.0,14.0,15.0,16.0,17.0,18.0,19.0,20.0,21.0,22.0,23.0,0.0,1.0,2.0,3.0,4.0,5.0,6.0,6.0,6.0,6.0,7.0,8.0,9.0,10.0,11.0,12.0,12.0,13.0,14.0,15.0,16.0,17.0,18.0,19.0,20.0,21.0,22.0,23.0,0.0,1.0,2.0,3.0,4.0,5.0,6.0,6.0,6.0,6.0,7.0,8.0,9.0,10.0,11.0,12.0,12.0,13.0,14.0,15.0,16.0,17.0,18.0,19.0,20.0,21.0,22.0,23.0,0.0,1.0,2.0,3.0,4.0,5.0,6.0,6.0,6.0,6.0,7.0,8.0,9.0,10.0,11.0,12.0,12.0,13.0,14.0,15.0,16.0,17.0,18.0,19.0,20.0,21.0,22.0]],\"type\":\"heatmap\",\"xaxis\":\"x\",\"yaxis\":\"y\",\"hovertemplate\":\"x: %{x}<br>Features: %{y}<br>Intensity: %{z}<extra></extra>\"}],                        {\"template\":{\"data\":{\"histogram2dcontour\":[{\"type\":\"histogram2dcontour\",\"colorbar\":{\"outlinewidth\":0,\"ticks\":\"\"},\"colorscale\":[[0.0,\"#0d0887\"],[0.1111111111111111,\"#46039f\"],[0.2222222222222222,\"#7201a8\"],[0.3333333333333333,\"#9c179e\"],[0.4444444444444444,\"#bd3786\"],[0.5555555555555556,\"#d8576b\"],[0.6666666666666666,\"#ed7953\"],[0.7777777777777778,\"#fb9f3a\"],[0.8888888888888888,\"#fdca26\"],[1.0,\"#f0f921\"]]}],\"choropleth\":[{\"type\":\"choropleth\",\"colorbar\":{\"outlinewidth\":0,\"ticks\":\"\"}}],\"histogram2d\":[{\"type\":\"histogram2d\",\"colorbar\":{\"outlinewidth\":0,\"ticks\":\"\"},\"colorscale\":[[0.0,\"#0d0887\"],[0.1111111111111111,\"#46039f\"],[0.2222222222222222,\"#7201a8\"],[0.3333333333333333,\"#9c179e\"],[0.4444444444444444,\"#bd3786\"],[0.5555555555555556,\"#d8576b\"],[0.6666666666666666,\"#ed7953\"],[0.7777777777777778,\"#fb9f3a\"],[0.8888888888888888,\"#fdca26\"],[1.0,\"#f0f921\"]]}],\"heatmap\":[{\"type\":\"heatmap\",\"colorbar\":{\"outlinewidth\":0,\"ticks\":\"\"},\"colorscale\":[[0.0,\"#0d0887\"],[0.1111111111111111,\"#46039f\"],[0.2222222222222222,\"#7201a8\"],[0.3333333333333333,\"#9c179e\"],[0.4444444444444444,\"#bd3786\"],[0.5555555555555556,\"#d8576b\"],[0.6666666666666666,\"#ed7953\"],[0.7777777777777778,\"#fb9f3a\"],[0.8888888888888888,\"#fdca26\"],[1.0,\"#f0f921\"]]}],\"heatmapgl\":[{\"type\":\"heatmapgl\",\"colorbar\":{\"outlinewidth\":0,\"ticks\":\"\"},\"colorscale\":[[0.0,\"#0d0887\"],[0.1111111111111111,\"#46039f\"],[0.2222222222222222,\"#7201a8\"],[0.3333333333333333,\"#9c179e\"],[0.4444444444444444,\"#bd3786\"],[0.5555555555555556,\"#d8576b\"],[0.6666666666666666,\"#ed7953\"],[0.7777777777777778,\"#fb9f3a\"],[0.8888888888888888,\"#fdca26\"],[1.0,\"#f0f921\"]]}],\"contourcarpet\":[{\"type\":\"contourcarpet\",\"colorbar\":{\"outlinewidth\":0,\"ticks\":\"\"}}],\"contour\":[{\"type\":\"contour\",\"colorbar\":{\"outlinewidth\":0,\"ticks\":\"\"},\"colorscale\":[[0.0,\"#0d0887\"],[0.1111111111111111,\"#46039f\"],[0.2222222222222222,\"#7201a8\"],[0.3333333333333333,\"#9c179e\"],[0.4444444444444444,\"#bd3786\"],[0.5555555555555556,\"#d8576b\"],[0.6666666666666666,\"#ed7953\"],[0.7777777777777778,\"#fb9f3a\"],[0.8888888888888888,\"#fdca26\"],[1.0,\"#f0f921\"]]}],\"surface\":[{\"type\":\"surface\",\"colorbar\":{\"outlinewidth\":0,\"ticks\":\"\"},\"colorscale\":[[0.0,\"#0d0887\"],[0.1111111111111111,\"#46039f\"],[0.2222222222222222,\"#7201a8\"],[0.3333333333333333,\"#9c179e\"],[0.4444444444444444,\"#bd3786\"],[0.5555555555555556,\"#d8576b\"],[0.6666666666666666,\"#ed7953\"],[0.7777777777777778,\"#fb9f3a\"],[0.8888888888888888,\"#fdca26\"],[1.0,\"#f0f921\"]]}],\"mesh3d\":[{\"type\":\"mesh3d\",\"colorbar\":{\"outlinewidth\":0,\"ticks\":\"\"}}],\"scatter\":[{\"fillpattern\":{\"fillmode\":\"overlay\",\"size\":10,\"solidity\":0.2},\"type\":\"scatter\"}],\"parcoords\":[{\"type\":\"parcoords\",\"line\":{\"colorbar\":{\"outlinewidth\":0,\"ticks\":\"\"}}}],\"scatterpolargl\":[{\"type\":\"scatterpolargl\",\"marker\":{\"colorbar\":{\"outlinewidth\":0,\"ticks\":\"\"}}}],\"bar\":[{\"error_x\":{\"color\":\"#2a3f5f\"},\"error_y\":{\"color\":\"#2a3f5f\"},\"marker\":{\"line\":{\"color\":\"#E5ECF6\",\"width\":0.5},\"pattern\":{\"fillmode\":\"overlay\",\"size\":10,\"solidity\":0.2}},\"type\":\"bar\"}],\"scattergeo\":[{\"type\":\"scattergeo\",\"marker\":{\"colorbar\":{\"outlinewidth\":0,\"ticks\":\"\"}}}],\"scatterpolar\":[{\"type\":\"scatterpolar\",\"marker\":{\"colorbar\":{\"outlinewidth\":0,\"ticks\":\"\"}}}],\"histogram\":[{\"marker\":{\"pattern\":{\"fillmode\":\"overlay\",\"size\":10,\"solidity\":0.2}},\"type\":\"histogram\"}],\"scattergl\":[{\"type\":\"scattergl\",\"marker\":{\"colorbar\":{\"outlinewidth\":0,\"ticks\":\"\"}}}],\"scatter3d\":[{\"type\":\"scatter3d\",\"line\":{\"colorbar\":{\"outlinewidth\":0,\"ticks\":\"\"}},\"marker\":{\"colorbar\":{\"outlinewidth\":0,\"ticks\":\"\"}}}],\"scattermapbox\":[{\"type\":\"scattermapbox\",\"marker\":{\"colorbar\":{\"outlinewidth\":0,\"ticks\":\"\"}}}],\"scatterternary\":[{\"type\":\"scatterternary\",\"marker\":{\"colorbar\":{\"outlinewidth\":0,\"ticks\":\"\"}}}],\"scattercarpet\":[{\"type\":\"scattercarpet\",\"marker\":{\"colorbar\":{\"outlinewidth\":0,\"ticks\":\"\"}}}],\"carpet\":[{\"aaxis\":{\"endlinecolor\":\"#2a3f5f\",\"gridcolor\":\"white\",\"linecolor\":\"white\",\"minorgridcolor\":\"white\",\"startlinecolor\":\"#2a3f5f\"},\"baxis\":{\"endlinecolor\":\"#2a3f5f\",\"gridcolor\":\"white\",\"linecolor\":\"white\",\"minorgridcolor\":\"white\",\"startlinecolor\":\"#2a3f5f\"},\"type\":\"carpet\"}],\"table\":[{\"cells\":{\"fill\":{\"color\":\"#EBF0F8\"},\"line\":{\"color\":\"white\"}},\"header\":{\"fill\":{\"color\":\"#C8D4E3\"},\"line\":{\"color\":\"white\"}},\"type\":\"table\"}],\"barpolar\":[{\"marker\":{\"line\":{\"color\":\"#E5ECF6\",\"width\":0.5},\"pattern\":{\"fillmode\":\"overlay\",\"size\":10,\"solidity\":0.2}},\"type\":\"barpolar\"}],\"pie\":[{\"automargin\":true,\"type\":\"pie\"}]},\"layout\":{\"autotypenumbers\":\"strict\",\"colorway\":[\"#636efa\",\"#EF553B\",\"#00cc96\",\"#ab63fa\",\"#FFA15A\",\"#19d3f3\",\"#FF6692\",\"#B6E880\",\"#FF97FF\",\"#FECB52\"],\"font\":{\"color\":\"#2a3f5f\"},\"hovermode\":\"closest\",\"hoverlabel\":{\"align\":\"left\"},\"paper_bgcolor\":\"white\",\"plot_bgcolor\":\"#E5ECF6\",\"polar\":{\"bgcolor\":\"#E5ECF6\",\"angularaxis\":{\"gridcolor\":\"white\",\"linecolor\":\"white\",\"ticks\":\"\"},\"radialaxis\":{\"gridcolor\":\"white\",\"linecolor\":\"white\",\"ticks\":\"\"}},\"ternary\":{\"bgcolor\":\"#E5ECF6\",\"aaxis\":{\"gridcolor\":\"white\",\"linecolor\":\"white\",\"ticks\":\"\"},\"baxis\":{\"gridcolor\":\"white\",\"linecolor\":\"white\",\"ticks\":\"\"},\"caxis\":{\"gridcolor\":\"white\",\"linecolor\":\"white\",\"ticks\":\"\"}},\"coloraxis\":{\"colorbar\":{\"outlinewidth\":0,\"ticks\":\"\"}},\"colorscale\":{\"sequential\":[[0.0,\"#0d0887\"],[0.1111111111111111,\"#46039f\"],[0.2222222222222222,\"#7201a8\"],[0.3333333333333333,\"#9c179e\"],[0.4444444444444444,\"#bd3786\"],[0.5555555555555556,\"#d8576b\"],[0.6666666666666666,\"#ed7953\"],[0.7777777777777778,\"#fb9f3a\"],[0.8888888888888888,\"#fdca26\"],[1.0,\"#f0f921\"]],\"sequentialminus\":[[0.0,\"#0d0887\"],[0.1111111111111111,\"#46039f\"],[0.2222222222222222,\"#7201a8\"],[0.3333333333333333,\"#9c179e\"],[0.4444444444444444,\"#bd3786\"],[0.5555555555555556,\"#d8576b\"],[0.6666666666666666,\"#ed7953\"],[0.7777777777777778,\"#fb9f3a\"],[0.8888888888888888,\"#fdca26\"],[1.0,\"#f0f921\"]],\"diverging\":[[0,\"#8e0152\"],[0.1,\"#c51b7d\"],[0.2,\"#de77ae\"],[0.3,\"#f1b6da\"],[0.4,\"#fde0ef\"],[0.5,\"#f7f7f7\"],[0.6,\"#e6f5d0\"],[0.7,\"#b8e186\"],[0.8,\"#7fbc41\"],[0.9,\"#4d9221\"],[1,\"#276419\"]]},\"xaxis\":{\"gridcolor\":\"white\",\"linecolor\":\"white\",\"ticks\":\"\",\"title\":{\"standoff\":15},\"zerolinecolor\":\"white\",\"automargin\":true,\"zerolinewidth\":2},\"yaxis\":{\"gridcolor\":\"white\",\"linecolor\":\"white\",\"ticks\":\"\",\"title\":{\"standoff\":15},\"zerolinecolor\":\"white\",\"automargin\":true,\"zerolinewidth\":2},\"scene\":{\"xaxis\":{\"backgroundcolor\":\"#E5ECF6\",\"gridcolor\":\"white\",\"linecolor\":\"white\",\"showbackground\":true,\"ticks\":\"\",\"zerolinecolor\":\"white\",\"gridwidth\":2},\"yaxis\":{\"backgroundcolor\":\"#E5ECF6\",\"gridcolor\":\"white\",\"linecolor\":\"white\",\"showbackground\":true,\"ticks\":\"\",\"zerolinecolor\":\"white\",\"gridwidth\":2},\"zaxis\":{\"backgroundcolor\":\"#E5ECF6\",\"gridcolor\":\"white\",\"linecolor\":\"white\",\"showbackground\":true,\"ticks\":\"\",\"zerolinecolor\":\"white\",\"gridwidth\":2}},\"shapedefaults\":{\"line\":{\"color\":\"#2a3f5f\"}},\"annotationdefaults\":{\"arrowcolor\":\"#2a3f5f\",\"arrowhead\":0,\"arrowwidth\":1},\"geo\":{\"bgcolor\":\"white\",\"landcolor\":\"#E5ECF6\",\"subunitcolor\":\"white\",\"showland\":true,\"showlakes\":true,\"lakecolor\":\"white\"},\"title\":{\"x\":0.05},\"mapbox\":{\"style\":\"light\"}}},\"xaxis\":{\"anchor\":\"y\",\"domain\":[0.0,1.0],\"scaleanchor\":\"y\",\"constrain\":\"domain\"},\"yaxis\":{\"anchor\":\"x\",\"domain\":[0.0,1.0],\"autorange\":\"reversed\",\"constrain\":\"domain\",\"title\":{\"text\":\"Features\"}},\"coloraxis\":{\"colorbar\":{\"title\":{\"text\":\"Intensity\"}},\"colorscale\":[[0.0,\"#0d0887\"],[0.1111111111111111,\"#46039f\"],[0.2222222222222222,\"#7201a8\"],[0.3333333333333333,\"#9c179e\"],[0.4444444444444444,\"#bd3786\"],[0.5555555555555556,\"#d8576b\"],[0.6666666666666666,\"#ed7953\"],[0.7777777777777778,\"#fb9f3a\"],[0.8888888888888888,\"#fdca26\"],[1.0,\"#f0f921\"]]},\"margin\":{\"t\":60}},                        {\"responsive\": true}                    ).then(function(){\n",
              "                            \n",
              "var gd = document.getElementById('4feb7fed-8c1d-4703-8d0a-bcbf51e4ebc3');\n",
              "var x = new MutationObserver(function (mutations, observer) {{\n",
              "        var display = window.getComputedStyle(gd).display;\n",
              "        if (!display || display === 'none') {{\n",
              "            console.log([gd, 'removed!']);\n",
              "            Plotly.purge(gd);\n",
              "            observer.disconnect();\n",
              "        }}\n",
              "}});\n",
              "\n",
              "// Listen for the removal of the full notebook cells\n",
              "var notebookContainer = gd.closest('#notebook-container');\n",
              "if (notebookContainer) {{\n",
              "    x.observe(notebookContainer, {childList: true});\n",
              "}}\n",
              "\n",
              "// Listen for the clearing of the current output cell\n",
              "var outputEl = gd.closest('.output');\n",
              "if (outputEl) {{\n",
              "    x.observe(outputEl, {childList: true});\n",
              "}}\n",
              "\n",
              "                        })                };                            </script>        </div>\n",
              "</body>\n",
              "</html>"
            ]
          },
          "metadata": {}
        }
      ]
    },
    {
      "cell_type": "code",
      "source": [
        "fig = px.imshow([df['Humidity'],df['Temperature']], labels=dict(y=\"Features\",color = 'Intensity'),\n",
        "                y=['Humidity', 'Temperature']\n",
        "               )\n",
        "fig.show()"
      ],
      "metadata": {
        "colab": {
          "base_uri": "https://localhost:8080/",
          "height": 542
        },
        "id": "nrjSgdG6kQ86",
        "outputId": "3549b041-beae-4baa-b941-b1ae84581132"
      },
      "execution_count": 125,
      "outputs": [
        {
          "output_type": "display_data",
          "data": {
            "text/html": [
              "<html>\n",
              "<head><meta charset=\"utf-8\" /></head>\n",
              "<body>\n",
              "    <div>            <script src=\"https://cdnjs.cloudflare.com/ajax/libs/mathjax/2.7.5/MathJax.js?config=TeX-AMS-MML_SVG\"></script><script type=\"text/javascript\">if (window.MathJax && window.MathJax.Hub && window.MathJax.Hub.Config) {window.MathJax.Hub.Config({SVG: {font: \"STIX-Web\"}});}</script>                <script type=\"text/javascript\">window.PlotlyConfig = {MathJaxConfig: 'local'};</script>\n",
              "        <script src=\"https://cdn.plot.ly/plotly-2.18.2.min.js\"></script>                <div id=\"aeb4daa2-bbee-48f9-a515-d1494dcd7da1\" class=\"plotly-graph-div\" style=\"height:525px; width:100%;\"></div>            <script type=\"text/javascript\">                                    window.PLOTLYENV=window.PLOTLYENV || {};                                    if (document.getElementById(\"aeb4daa2-bbee-48f9-a515-d1494dcd7da1\")) {                    Plotly.newPlot(                        \"aeb4daa2-bbee-48f9-a515-d1494dcd7da1\",                        [{\"coloraxis\":\"coloraxis\",\"name\":\"0\",\"y\":[\"Humidity\",\"Temperature\"],\"z\":[[65.4,62.1,59.8,58.2,56.7,54.8,57.1,57.1,57.1,57.1,60.9,64.6,67.8,70.2,72.1,75.3,75.3,77.1,78.5,79.8,81.2,77.8,75.7,73.6,70.8,68.1,65.9,63.7,61.9,59.6,57.9,55.8,52.7,51.1,53.2,53.2,53.2,53.2,56.5,60.1,63.3,65.8,68.2,71.4,71.4,73.6,75.1,77.3,79.2,75.6,73.4,71.3,68.7,66.5,64.3,62.4,60.6,58.4,56.6,54.5,52.2,50.5,52.4,52.4,52.4,52.4,55.6,59.0,62.0,64.5,66.9,70.0,70.0,71.8,73.2,75.6,77.9,74.3,72.0,70.1,67.4,65.2,63.0,61.0,59.1,57.0,55.2,53.1,50.7,48.9,51.2,51.2,51.2,51.2,54.5,57.8,61.0,63.5,65.9,69.0,69.0,70.8,72.2,74.5,76.8,73.2,70.9,69.0,66.3,64.1,61.9,59.9,58.0,56.0,54.2,52.1,49.7,47.9,50.2,50.2,50.2,50.2,53.6,56.9,60.0,62.4,64.8,68.0,68.0,69.8,71.2,73.5,75.8,72.2,69.9,68.0,65.3,63.1,60.9,58.9,57.0,55.0,53.2,51.1,48.7,46.9,49.2,49.2,49.2,49.2,52.6,55.9,59.0,61.4,63.8,67.0,67.0,68.8,70.2,72.5,74.8,71.2,68.9,67.0,64.3,62.1,59.9,58.0,56.1,54.1,52.3,50.2,47.8,46.0,48.3,48.3,48.3,48.3,51.7,55.0,58.1,60.5,62.9,66.1,66.1,67.9,69.3,71.6,73.9,70.3,68.0,66.1,63.4,61.2,59.0,57.0,55.1,53.1,51.3,49.2,46.8,45.0,47.3,47.3,47.3,47.3,50.7,54.0,57.1,59.5,61.9,65.1,65.1,66.9,68.3,70.6,72.9,69.3,67.0,65.1,62.4,60.2,58.0,56.0,54.1,52.1,50.3,48.2,45.8,44.0,46.3,46.3,46.3,46.3,49.7,53.0,56.1,58.5,60.9,64.1,64.1,65.9,67.3,69.6,71.9,68.3,66.0,64.1,61.4,59.2,57.0,55.0,53.1,51.1,49.3,47.2,44.8,43.0,45.3,45.3,45.3,45.3,48.7,52.0,55.1,57.5,59.9,63.1,63.1,64.9,66.3,68.6,70.9,67.3,65.0,63.1,60.4,58.2,56.0,54.0,52.1,50.1,48.3,46.2,43.8,42.0,44.3,44.3,44.3,44.3,47.7,51.0,54.1,56.5,58.9,62.1,62.1,63.9,65.3,67.6,69.9,66.3,64.0,62.1,59.4,57.2,55.0],[22.3,21.5,20.9,20.5,20.1,19.7,20.3,20.3,20.3,20.3,21.2,22.8,23.9,24.5,25.1,26.5,26.5,27.2,27.8,28.4,28.9,28.1,27.5,26.9,26.1,25.3,24.7,24.1,23.5,22.8,22.2,21.7,20.9,20.3,20.8,20.8,20.8,20.8,21.6,22.9,24.2,24.8,25.4,26.8,26.8,27.4,28.0,28.6,29.1,28.3,27.7,27.1,26.3,25.6,25.0,24.4,23.8,23.1,22.5,21.9,21.2,20.6,21.0,21.0,21.0,21.0,21.9,23.3,24.7,25.3,25.9,27.3,27.3,27.9,28.5,29.1,29.6,28.8,28.2,27.6,26.8,26.1,25.5,24.9,24.3,23.6,23.0,22.4,21.7,21.1,21.5,21.5,21.5,21.5,22.3,23.7,25.1,25.7,26.3,27.7,27.7,28.3,28.9,29.5,30.0,29.2,28.6,28.0,27.2,26.5,25.9,25.3,24.7,24.0,23.4,22.8,22.1,21.5,22.0,22.0,22.0,22.0,22.8,24.2,25.6,26.2,26.8,28.2,28.2,28.8,29.4,30.0,30.5,29.7,29.1,28.5,27.7,27.0,26.4,25.8,25.2,24.5,23.9,23.3,22.6,22.0,22.5,22.5,22.5,22.5,23.3,24.7,26.1,26.7,27.3,28.7,28.7,29.3,29.9,30.5,31.0,30.2,29.6,29.0,28.2,27.5,26.9,26.3,25.7,25.0,24.4,23.8,23.1,22.5,23.0,23.0,23.0,23.0,23.8,25.2,26.6,27.2,27.8,29.2,29.2,29.8,30.4,31.0,31.5,30.7,30.1,29.5,28.7,28.0,27.4,26.8,26.2,25.5,24.9,24.3,23.6,23.0,23.5,23.5,23.5,23.5,24.3,25.7,27.1,27.7,28.3,29.7,29.7,30.3,30.9,31.5,32.0,31.2,30.6,30.0,29.2,28.5,27.9,27.3,26.7,26.0,25.4,24.8,24.1,23.5,24.0,24.0,24.0,24.0,24.8,26.2,27.6,28.2,28.8,30.2,30.2,30.8,31.4,32.0,32.5,31.7,31.1,30.5,29.7,29.0,28.4,27.8,27.2,26.5,25.9,25.3,24.6,24.0,24.5,24.5,24.5,24.5,25.3,26.7,28.1,28.7,29.3,30.7,30.7,31.3,31.9,32.5,33.0,32.2,31.6,31.0,30.2,29.5,28.9,28.3,27.7,27.0,26.4,25.8,25.1,24.5,25.0,25.0,25.0,25.0,25.8,27.2,28.6,29.2,29.8,31.2,31.2,31.8,32.4,33.0,33.5,32.7,32.1,31.5,30.7,30.0,29.4]],\"type\":\"heatmap\",\"xaxis\":\"x\",\"yaxis\":\"y\",\"hovertemplate\":\"x: %{x}<br>Features: %{y}<br>Intensity: %{z}<extra></extra>\"}],                        {\"template\":{\"data\":{\"histogram2dcontour\":[{\"type\":\"histogram2dcontour\",\"colorbar\":{\"outlinewidth\":0,\"ticks\":\"\"},\"colorscale\":[[0.0,\"#0d0887\"],[0.1111111111111111,\"#46039f\"],[0.2222222222222222,\"#7201a8\"],[0.3333333333333333,\"#9c179e\"],[0.4444444444444444,\"#bd3786\"],[0.5555555555555556,\"#d8576b\"],[0.6666666666666666,\"#ed7953\"],[0.7777777777777778,\"#fb9f3a\"],[0.8888888888888888,\"#fdca26\"],[1.0,\"#f0f921\"]]}],\"choropleth\":[{\"type\":\"choropleth\",\"colorbar\":{\"outlinewidth\":0,\"ticks\":\"\"}}],\"histogram2d\":[{\"type\":\"histogram2d\",\"colorbar\":{\"outlinewidth\":0,\"ticks\":\"\"},\"colorscale\":[[0.0,\"#0d0887\"],[0.1111111111111111,\"#46039f\"],[0.2222222222222222,\"#7201a8\"],[0.3333333333333333,\"#9c179e\"],[0.4444444444444444,\"#bd3786\"],[0.5555555555555556,\"#d8576b\"],[0.6666666666666666,\"#ed7953\"],[0.7777777777777778,\"#fb9f3a\"],[0.8888888888888888,\"#fdca26\"],[1.0,\"#f0f921\"]]}],\"heatmap\":[{\"type\":\"heatmap\",\"colorbar\":{\"outlinewidth\":0,\"ticks\":\"\"},\"colorscale\":[[0.0,\"#0d0887\"],[0.1111111111111111,\"#46039f\"],[0.2222222222222222,\"#7201a8\"],[0.3333333333333333,\"#9c179e\"],[0.4444444444444444,\"#bd3786\"],[0.5555555555555556,\"#d8576b\"],[0.6666666666666666,\"#ed7953\"],[0.7777777777777778,\"#fb9f3a\"],[0.8888888888888888,\"#fdca26\"],[1.0,\"#f0f921\"]]}],\"heatmapgl\":[{\"type\":\"heatmapgl\",\"colorbar\":{\"outlinewidth\":0,\"ticks\":\"\"},\"colorscale\":[[0.0,\"#0d0887\"],[0.1111111111111111,\"#46039f\"],[0.2222222222222222,\"#7201a8\"],[0.3333333333333333,\"#9c179e\"],[0.4444444444444444,\"#bd3786\"],[0.5555555555555556,\"#d8576b\"],[0.6666666666666666,\"#ed7953\"],[0.7777777777777778,\"#fb9f3a\"],[0.8888888888888888,\"#fdca26\"],[1.0,\"#f0f921\"]]}],\"contourcarpet\":[{\"type\":\"contourcarpet\",\"colorbar\":{\"outlinewidth\":0,\"ticks\":\"\"}}],\"contour\":[{\"type\":\"contour\",\"colorbar\":{\"outlinewidth\":0,\"ticks\":\"\"},\"colorscale\":[[0.0,\"#0d0887\"],[0.1111111111111111,\"#46039f\"],[0.2222222222222222,\"#7201a8\"],[0.3333333333333333,\"#9c179e\"],[0.4444444444444444,\"#bd3786\"],[0.5555555555555556,\"#d8576b\"],[0.6666666666666666,\"#ed7953\"],[0.7777777777777778,\"#fb9f3a\"],[0.8888888888888888,\"#fdca26\"],[1.0,\"#f0f921\"]]}],\"surface\":[{\"type\":\"surface\",\"colorbar\":{\"outlinewidth\":0,\"ticks\":\"\"},\"colorscale\":[[0.0,\"#0d0887\"],[0.1111111111111111,\"#46039f\"],[0.2222222222222222,\"#7201a8\"],[0.3333333333333333,\"#9c179e\"],[0.4444444444444444,\"#bd3786\"],[0.5555555555555556,\"#d8576b\"],[0.6666666666666666,\"#ed7953\"],[0.7777777777777778,\"#fb9f3a\"],[0.8888888888888888,\"#fdca26\"],[1.0,\"#f0f921\"]]}],\"mesh3d\":[{\"type\":\"mesh3d\",\"colorbar\":{\"outlinewidth\":0,\"ticks\":\"\"}}],\"scatter\":[{\"fillpattern\":{\"fillmode\":\"overlay\",\"size\":10,\"solidity\":0.2},\"type\":\"scatter\"}],\"parcoords\":[{\"type\":\"parcoords\",\"line\":{\"colorbar\":{\"outlinewidth\":0,\"ticks\":\"\"}}}],\"scatterpolargl\":[{\"type\":\"scatterpolargl\",\"marker\":{\"colorbar\":{\"outlinewidth\":0,\"ticks\":\"\"}}}],\"bar\":[{\"error_x\":{\"color\":\"#2a3f5f\"},\"error_y\":{\"color\":\"#2a3f5f\"},\"marker\":{\"line\":{\"color\":\"#E5ECF6\",\"width\":0.5},\"pattern\":{\"fillmode\":\"overlay\",\"size\":10,\"solidity\":0.2}},\"type\":\"bar\"}],\"scattergeo\":[{\"type\":\"scattergeo\",\"marker\":{\"colorbar\":{\"outlinewidth\":0,\"ticks\":\"\"}}}],\"scatterpolar\":[{\"type\":\"scatterpolar\",\"marker\":{\"colorbar\":{\"outlinewidth\":0,\"ticks\":\"\"}}}],\"histogram\":[{\"marker\":{\"pattern\":{\"fillmode\":\"overlay\",\"size\":10,\"solidity\":0.2}},\"type\":\"histogram\"}],\"scattergl\":[{\"type\":\"scattergl\",\"marker\":{\"colorbar\":{\"outlinewidth\":0,\"ticks\":\"\"}}}],\"scatter3d\":[{\"type\":\"scatter3d\",\"line\":{\"colorbar\":{\"outlinewidth\":0,\"ticks\":\"\"}},\"marker\":{\"colorbar\":{\"outlinewidth\":0,\"ticks\":\"\"}}}],\"scattermapbox\":[{\"type\":\"scattermapbox\",\"marker\":{\"colorbar\":{\"outlinewidth\":0,\"ticks\":\"\"}}}],\"scatterternary\":[{\"type\":\"scatterternary\",\"marker\":{\"colorbar\":{\"outlinewidth\":0,\"ticks\":\"\"}}}],\"scattercarpet\":[{\"type\":\"scattercarpet\",\"marker\":{\"colorbar\":{\"outlinewidth\":0,\"ticks\":\"\"}}}],\"carpet\":[{\"aaxis\":{\"endlinecolor\":\"#2a3f5f\",\"gridcolor\":\"white\",\"linecolor\":\"white\",\"minorgridcolor\":\"white\",\"startlinecolor\":\"#2a3f5f\"},\"baxis\":{\"endlinecolor\":\"#2a3f5f\",\"gridcolor\":\"white\",\"linecolor\":\"white\",\"minorgridcolor\":\"white\",\"startlinecolor\":\"#2a3f5f\"},\"type\":\"carpet\"}],\"table\":[{\"cells\":{\"fill\":{\"color\":\"#EBF0F8\"},\"line\":{\"color\":\"white\"}},\"header\":{\"fill\":{\"color\":\"#C8D4E3\"},\"line\":{\"color\":\"white\"}},\"type\":\"table\"}],\"barpolar\":[{\"marker\":{\"line\":{\"color\":\"#E5ECF6\",\"width\":0.5},\"pattern\":{\"fillmode\":\"overlay\",\"size\":10,\"solidity\":0.2}},\"type\":\"barpolar\"}],\"pie\":[{\"automargin\":true,\"type\":\"pie\"}]},\"layout\":{\"autotypenumbers\":\"strict\",\"colorway\":[\"#636efa\",\"#EF553B\",\"#00cc96\",\"#ab63fa\",\"#FFA15A\",\"#19d3f3\",\"#FF6692\",\"#B6E880\",\"#FF97FF\",\"#FECB52\"],\"font\":{\"color\":\"#2a3f5f\"},\"hovermode\":\"closest\",\"hoverlabel\":{\"align\":\"left\"},\"paper_bgcolor\":\"white\",\"plot_bgcolor\":\"#E5ECF6\",\"polar\":{\"bgcolor\":\"#E5ECF6\",\"angularaxis\":{\"gridcolor\":\"white\",\"linecolor\":\"white\",\"ticks\":\"\"},\"radialaxis\":{\"gridcolor\":\"white\",\"linecolor\":\"white\",\"ticks\":\"\"}},\"ternary\":{\"bgcolor\":\"#E5ECF6\",\"aaxis\":{\"gridcolor\":\"white\",\"linecolor\":\"white\",\"ticks\":\"\"},\"baxis\":{\"gridcolor\":\"white\",\"linecolor\":\"white\",\"ticks\":\"\"},\"caxis\":{\"gridcolor\":\"white\",\"linecolor\":\"white\",\"ticks\":\"\"}},\"coloraxis\":{\"colorbar\":{\"outlinewidth\":0,\"ticks\":\"\"}},\"colorscale\":{\"sequential\":[[0.0,\"#0d0887\"],[0.1111111111111111,\"#46039f\"],[0.2222222222222222,\"#7201a8\"],[0.3333333333333333,\"#9c179e\"],[0.4444444444444444,\"#bd3786\"],[0.5555555555555556,\"#d8576b\"],[0.6666666666666666,\"#ed7953\"],[0.7777777777777778,\"#fb9f3a\"],[0.8888888888888888,\"#fdca26\"],[1.0,\"#f0f921\"]],\"sequentialminus\":[[0.0,\"#0d0887\"],[0.1111111111111111,\"#46039f\"],[0.2222222222222222,\"#7201a8\"],[0.3333333333333333,\"#9c179e\"],[0.4444444444444444,\"#bd3786\"],[0.5555555555555556,\"#d8576b\"],[0.6666666666666666,\"#ed7953\"],[0.7777777777777778,\"#fb9f3a\"],[0.8888888888888888,\"#fdca26\"],[1.0,\"#f0f921\"]],\"diverging\":[[0,\"#8e0152\"],[0.1,\"#c51b7d\"],[0.2,\"#de77ae\"],[0.3,\"#f1b6da\"],[0.4,\"#fde0ef\"],[0.5,\"#f7f7f7\"],[0.6,\"#e6f5d0\"],[0.7,\"#b8e186\"],[0.8,\"#7fbc41\"],[0.9,\"#4d9221\"],[1,\"#276419\"]]},\"xaxis\":{\"gridcolor\":\"white\",\"linecolor\":\"white\",\"ticks\":\"\",\"title\":{\"standoff\":15},\"zerolinecolor\":\"white\",\"automargin\":true,\"zerolinewidth\":2},\"yaxis\":{\"gridcolor\":\"white\",\"linecolor\":\"white\",\"ticks\":\"\",\"title\":{\"standoff\":15},\"zerolinecolor\":\"white\",\"automargin\":true,\"zerolinewidth\":2},\"scene\":{\"xaxis\":{\"backgroundcolor\":\"#E5ECF6\",\"gridcolor\":\"white\",\"linecolor\":\"white\",\"showbackground\":true,\"ticks\":\"\",\"zerolinecolor\":\"white\",\"gridwidth\":2},\"yaxis\":{\"backgroundcolor\":\"#E5ECF6\",\"gridcolor\":\"white\",\"linecolor\":\"white\",\"showbackground\":true,\"ticks\":\"\",\"zerolinecolor\":\"white\",\"gridwidth\":2},\"zaxis\":{\"backgroundcolor\":\"#E5ECF6\",\"gridcolor\":\"white\",\"linecolor\":\"white\",\"showbackground\":true,\"ticks\":\"\",\"zerolinecolor\":\"white\",\"gridwidth\":2}},\"shapedefaults\":{\"line\":{\"color\":\"#2a3f5f\"}},\"annotationdefaults\":{\"arrowcolor\":\"#2a3f5f\",\"arrowhead\":0,\"arrowwidth\":1},\"geo\":{\"bgcolor\":\"white\",\"landcolor\":\"#E5ECF6\",\"subunitcolor\":\"white\",\"showland\":true,\"showlakes\":true,\"lakecolor\":\"white\"},\"title\":{\"x\":0.05},\"mapbox\":{\"style\":\"light\"}}},\"xaxis\":{\"anchor\":\"y\",\"domain\":[0.0,1.0],\"scaleanchor\":\"y\",\"constrain\":\"domain\"},\"yaxis\":{\"anchor\":\"x\",\"domain\":[0.0,1.0],\"autorange\":\"reversed\",\"constrain\":\"domain\",\"title\":{\"text\":\"Features\"}},\"coloraxis\":{\"colorbar\":{\"title\":{\"text\":\"Intensity\"}},\"colorscale\":[[0.0,\"#0d0887\"],[0.1111111111111111,\"#46039f\"],[0.2222222222222222,\"#7201a8\"],[0.3333333333333333,\"#9c179e\"],[0.4444444444444444,\"#bd3786\"],[0.5555555555555556,\"#d8576b\"],[0.6666666666666666,\"#ed7953\"],[0.7777777777777778,\"#fb9f3a\"],[0.8888888888888888,\"#fdca26\"],[1.0,\"#f0f921\"]]},\"margin\":{\"t\":60}},                        {\"responsive\": true}                    ).then(function(){\n",
              "                            \n",
              "var gd = document.getElementById('aeb4daa2-bbee-48f9-a515-d1494dcd7da1');\n",
              "var x = new MutationObserver(function (mutations, observer) {{\n",
              "        var display = window.getComputedStyle(gd).display;\n",
              "        if (!display || display === 'none') {{\n",
              "            console.log([gd, 'removed!']);\n",
              "            Plotly.purge(gd);\n",
              "            observer.disconnect();\n",
              "        }}\n",
              "}});\n",
              "\n",
              "// Listen for the removal of the full notebook cells\n",
              "var notebookContainer = gd.closest('#notebook-container');\n",
              "if (notebookContainer) {{\n",
              "    x.observe(notebookContainer, {childList: true});\n",
              "}}\n",
              "\n",
              "// Listen for the clearing of the current output cell\n",
              "var outputEl = gd.closest('.output');\n",
              "if (outputEl) {{\n",
              "    x.observe(outputEl, {childList: true});\n",
              "}}\n",
              "\n",
              "                        })                };                            </script>        </div>\n",
              "</body>\n",
              "</html>"
            ]
          },
          "metadata": {}
        }
      ]
    },
    {
      "cell_type": "code",
      "source": [
        "# Final Heatmap of Humidity and Temperature w.r.t. time of day (morning, afternoon, evening, night).\n",
        "import plotly.graph_objs as go\n",
        "\n",
        "fig = go.Figure(data=go.Heatmap(\n",
        "    x=df['Temperature'],\n",
        "    z=df['Hour'], \n",
        "    y=df['Humidity'],\n",
        "    colorbar=dict(title='Time of the Day(Hours)'),\n",
        "    colorscale='Viridis'\n",
        "))\n",
        "\n",
        "fig.update_layout(\n",
        "    title='Temperature-Humidity Relationship',\n",
        "    xaxis_title='Temp',\n",
        "    yaxis_title='Humidity'\n",
        "    )\n",
        "\n",
        "fig.show()\n"
      ],
      "metadata": {
        "colab": {
          "base_uri": "https://localhost:8080/",
          "height": 542
        },
        "id": "2CkOgR6nlcNc",
        "outputId": "4747eb81-740b-466b-fbcf-364c62b88f8f"
      },
      "execution_count": 126,
      "outputs": [
        {
          "output_type": "display_data",
          "data": {
            "text/html": [
              "<html>\n",
              "<head><meta charset=\"utf-8\" /></head>\n",
              "<body>\n",
              "    <div>            <script src=\"https://cdnjs.cloudflare.com/ajax/libs/mathjax/2.7.5/MathJax.js?config=TeX-AMS-MML_SVG\"></script><script type=\"text/javascript\">if (window.MathJax && window.MathJax.Hub && window.MathJax.Hub.Config) {window.MathJax.Hub.Config({SVG: {font: \"STIX-Web\"}});}</script>                <script type=\"text/javascript\">window.PlotlyConfig = {MathJaxConfig: 'local'};</script>\n",
              "        <script src=\"https://cdn.plot.ly/plotly-2.18.2.min.js\"></script>                <div id=\"4c7a27d9-9b6c-4b14-ad94-e064fbddad30\" class=\"plotly-graph-div\" style=\"height:525px; width:100%;\"></div>            <script type=\"text/javascript\">                                    window.PLOTLYENV=window.PLOTLYENV || {};                                    if (document.getElementById(\"4c7a27d9-9b6c-4b14-ad94-e064fbddad30\")) {                    Plotly.newPlot(                        \"4c7a27d9-9b6c-4b14-ad94-e064fbddad30\",                        [{\"colorbar\":{\"title\":{\"text\":\"Time of the Day(Hours)\"}},\"colorscale\":[[0.0,\"#440154\"],[0.1111111111111111,\"#482878\"],[0.2222222222222222,\"#3e4989\"],[0.3333333333333333,\"#31688e\"],[0.4444444444444444,\"#26828e\"],[0.5555555555555556,\"#1f9e89\"],[0.6666666666666666,\"#35b779\"],[0.7777777777777778,\"#6ece58\"],[0.8888888888888888,\"#b5de2b\"],[1.0,\"#fde725\"]],\"x\":[22.3,21.5,20.9,20.5,20.1,19.7,20.3,20.3,20.3,20.3,21.2,22.8,23.9,24.5,25.1,26.5,26.5,27.2,27.8,28.4,28.9,28.1,27.5,26.9,26.1,25.3,24.7,24.1,23.5,22.8,22.2,21.7,20.9,20.3,20.8,20.8,20.8,20.8,21.6,22.9,24.2,24.8,25.4,26.8,26.8,27.4,28.0,28.6,29.1,28.3,27.7,27.1,26.3,25.6,25.0,24.4,23.8,23.1,22.5,21.9,21.2,20.6,21.0,21.0,21.0,21.0,21.9,23.3,24.7,25.3,25.9,27.3,27.3,27.9,28.5,29.1,29.6,28.8,28.2,27.6,26.8,26.1,25.5,24.9,24.3,23.6,23.0,22.4,21.7,21.1,21.5,21.5,21.5,21.5,22.3,23.7,25.1,25.7,26.3,27.7,27.7,28.3,28.9,29.5,30.0,29.2,28.6,28.0,27.2,26.5,25.9,25.3,24.7,24.0,23.4,22.8,22.1,21.5,22.0,22.0,22.0,22.0,22.8,24.2,25.6,26.2,26.8,28.2,28.2,28.8,29.4,30.0,30.5,29.7,29.1,28.5,27.7,27.0,26.4,25.8,25.2,24.5,23.9,23.3,22.6,22.0,22.5,22.5,22.5,22.5,23.3,24.7,26.1,26.7,27.3,28.7,28.7,29.3,29.9,30.5,31.0,30.2,29.6,29.0,28.2,27.5,26.9,26.3,25.7,25.0,24.4,23.8,23.1,22.5,23.0,23.0,23.0,23.0,23.8,25.2,26.6,27.2,27.8,29.2,29.2,29.8,30.4,31.0,31.5,30.7,30.1,29.5,28.7,28.0,27.4,26.8,26.2,25.5,24.9,24.3,23.6,23.0,23.5,23.5,23.5,23.5,24.3,25.7,27.1,27.7,28.3,29.7,29.7,30.3,30.9,31.5,32.0,31.2,30.6,30.0,29.2,28.5,27.9,27.3,26.7,26.0,25.4,24.8,24.1,23.5,24.0,24.0,24.0,24.0,24.8,26.2,27.6,28.2,28.8,30.2,30.2,30.8,31.4,32.0,32.5,31.7,31.1,30.5,29.7,29.0,28.4,27.8,27.2,26.5,25.9,25.3,24.6,24.0,24.5,24.5,24.5,24.5,25.3,26.7,28.1,28.7,29.3,30.7,30.7,31.3,31.9,32.5,33.0,32.2,31.6,31.0,30.2,29.5,28.9,28.3,27.7,27.0,26.4,25.8,25.1,24.5,25.0,25.0,25.0,25.0,25.8,27.2,28.6,29.2,29.8,31.2,31.2,31.8,32.4,33.0,33.5,32.7,32.1,31.5,30.7,30.0,29.4],\"y\":[65.4,62.1,59.8,58.2,56.7,54.8,57.1,57.1,57.1,57.1,60.9,64.6,67.8,70.2,72.1,75.3,75.3,77.1,78.5,79.8,81.2,77.8,75.7,73.6,70.8,68.1,65.9,63.7,61.9,59.6,57.9,55.8,52.7,51.1,53.2,53.2,53.2,53.2,56.5,60.1,63.3,65.8,68.2,71.4,71.4,73.6,75.1,77.3,79.2,75.6,73.4,71.3,68.7,66.5,64.3,62.4,60.6,58.4,56.6,54.5,52.2,50.5,52.4,52.4,52.4,52.4,55.6,59.0,62.0,64.5,66.9,70.0,70.0,71.8,73.2,75.6,77.9,74.3,72.0,70.1,67.4,65.2,63.0,61.0,59.1,57.0,55.2,53.1,50.7,48.9,51.2,51.2,51.2,51.2,54.5,57.8,61.0,63.5,65.9,69.0,69.0,70.8,72.2,74.5,76.8,73.2,70.9,69.0,66.3,64.1,61.9,59.9,58.0,56.0,54.2,52.1,49.7,47.9,50.2,50.2,50.2,50.2,53.6,56.9,60.0,62.4,64.8,68.0,68.0,69.8,71.2,73.5,75.8,72.2,69.9,68.0,65.3,63.1,60.9,58.9,57.0,55.0,53.2,51.1,48.7,46.9,49.2,49.2,49.2,49.2,52.6,55.9,59.0,61.4,63.8,67.0,67.0,68.8,70.2,72.5,74.8,71.2,68.9,67.0,64.3,62.1,59.9,58.0,56.1,54.1,52.3,50.2,47.8,46.0,48.3,48.3,48.3,48.3,51.7,55.0,58.1,60.5,62.9,66.1,66.1,67.9,69.3,71.6,73.9,70.3,68.0,66.1,63.4,61.2,59.0,57.0,55.1,53.1,51.3,49.2,46.8,45.0,47.3,47.3,47.3,47.3,50.7,54.0,57.1,59.5,61.9,65.1,65.1,66.9,68.3,70.6,72.9,69.3,67.0,65.1,62.4,60.2,58.0,56.0,54.1,52.1,50.3,48.2,45.8,44.0,46.3,46.3,46.3,46.3,49.7,53.0,56.1,58.5,60.9,64.1,64.1,65.9,67.3,69.6,71.9,68.3,66.0,64.1,61.4,59.2,57.0,55.0,53.1,51.1,49.3,47.2,44.8,43.0,45.3,45.3,45.3,45.3,48.7,52.0,55.1,57.5,59.9,63.1,63.1,64.9,66.3,68.6,70.9,67.3,65.0,63.1,60.4,58.2,56.0,54.0,52.1,50.1,48.3,46.2,43.8,42.0,44.3,44.3,44.3,44.3,47.7,51.0,54.1,56.5,58.9,62.1,62.1,63.9,65.3,67.6,69.9,66.3,64.0,62.1,59.4,57.2,55.0],\"z\":[0,1,2,3,4,5,6,6,6,6,7,8,9,10,11,12,12,13,14,15,16,17,18,19,20,21,22,23,0,1,2,3,4,5,6,6,6,6,7,8,9,10,11,12,12,13,14,15,16,17,18,19,20,21,22,23,0,1,2,3,4,5,6,6,6,6,7,8,9,10,11,12,12,13,14,15,16,17,18,19,20,21,22,23,0,1,2,3,4,5,6,6,6,6,7,8,9,10,11,12,12,13,14,15,16,17,18,19,20,21,22,23,0,1,2,3,4,5,6,6,6,6,7,8,9,10,11,12,12,13,14,15,16,17,18,19,20,21,22,23,0,1,2,3,4,5,6,6,6,6,7,8,9,10,11,12,12,13,14,15,16,17,18,19,20,21,22,23,0,1,2,3,4,5,6,6,6,6,7,8,9,10,11,12,12,13,14,15,16,17,18,19,20,21,22,23,0,1,2,3,4,5,6,6,6,6,7,8,9,10,11,12,12,13,14,15,16,17,18,19,20,21,22,23,0,1,2,3,4,5,6,6,6,6,7,8,9,10,11,12,12,13,14,15,16,17,18,19,20,21,22,23,0,1,2,3,4,5,6,6,6,6,7,8,9,10,11,12,12,13,14,15,16,17,18,19,20,21,22,23,0,1,2,3,4,5,6,6,6,6,7,8,9,10,11,12,12,13,14,15,16,17,18,19,20,21,22],\"type\":\"heatmap\"}],                        {\"template\":{\"data\":{\"histogram2dcontour\":[{\"type\":\"histogram2dcontour\",\"colorbar\":{\"outlinewidth\":0,\"ticks\":\"\"},\"colorscale\":[[0.0,\"#0d0887\"],[0.1111111111111111,\"#46039f\"],[0.2222222222222222,\"#7201a8\"],[0.3333333333333333,\"#9c179e\"],[0.4444444444444444,\"#bd3786\"],[0.5555555555555556,\"#d8576b\"],[0.6666666666666666,\"#ed7953\"],[0.7777777777777778,\"#fb9f3a\"],[0.8888888888888888,\"#fdca26\"],[1.0,\"#f0f921\"]]}],\"choropleth\":[{\"type\":\"choropleth\",\"colorbar\":{\"outlinewidth\":0,\"ticks\":\"\"}}],\"histogram2d\":[{\"type\":\"histogram2d\",\"colorbar\":{\"outlinewidth\":0,\"ticks\":\"\"},\"colorscale\":[[0.0,\"#0d0887\"],[0.1111111111111111,\"#46039f\"],[0.2222222222222222,\"#7201a8\"],[0.3333333333333333,\"#9c179e\"],[0.4444444444444444,\"#bd3786\"],[0.5555555555555556,\"#d8576b\"],[0.6666666666666666,\"#ed7953\"],[0.7777777777777778,\"#fb9f3a\"],[0.8888888888888888,\"#fdca26\"],[1.0,\"#f0f921\"]]}],\"heatmap\":[{\"type\":\"heatmap\",\"colorbar\":{\"outlinewidth\":0,\"ticks\":\"\"},\"colorscale\":[[0.0,\"#0d0887\"],[0.1111111111111111,\"#46039f\"],[0.2222222222222222,\"#7201a8\"],[0.3333333333333333,\"#9c179e\"],[0.4444444444444444,\"#bd3786\"],[0.5555555555555556,\"#d8576b\"],[0.6666666666666666,\"#ed7953\"],[0.7777777777777778,\"#fb9f3a\"],[0.8888888888888888,\"#fdca26\"],[1.0,\"#f0f921\"]]}],\"heatmapgl\":[{\"type\":\"heatmapgl\",\"colorbar\":{\"outlinewidth\":0,\"ticks\":\"\"},\"colorscale\":[[0.0,\"#0d0887\"],[0.1111111111111111,\"#46039f\"],[0.2222222222222222,\"#7201a8\"],[0.3333333333333333,\"#9c179e\"],[0.4444444444444444,\"#bd3786\"],[0.5555555555555556,\"#d8576b\"],[0.6666666666666666,\"#ed7953\"],[0.7777777777777778,\"#fb9f3a\"],[0.8888888888888888,\"#fdca26\"],[1.0,\"#f0f921\"]]}],\"contourcarpet\":[{\"type\":\"contourcarpet\",\"colorbar\":{\"outlinewidth\":0,\"ticks\":\"\"}}],\"contour\":[{\"type\":\"contour\",\"colorbar\":{\"outlinewidth\":0,\"ticks\":\"\"},\"colorscale\":[[0.0,\"#0d0887\"],[0.1111111111111111,\"#46039f\"],[0.2222222222222222,\"#7201a8\"],[0.3333333333333333,\"#9c179e\"],[0.4444444444444444,\"#bd3786\"],[0.5555555555555556,\"#d8576b\"],[0.6666666666666666,\"#ed7953\"],[0.7777777777777778,\"#fb9f3a\"],[0.8888888888888888,\"#fdca26\"],[1.0,\"#f0f921\"]]}],\"surface\":[{\"type\":\"surface\",\"colorbar\":{\"outlinewidth\":0,\"ticks\":\"\"},\"colorscale\":[[0.0,\"#0d0887\"],[0.1111111111111111,\"#46039f\"],[0.2222222222222222,\"#7201a8\"],[0.3333333333333333,\"#9c179e\"],[0.4444444444444444,\"#bd3786\"],[0.5555555555555556,\"#d8576b\"],[0.6666666666666666,\"#ed7953\"],[0.7777777777777778,\"#fb9f3a\"],[0.8888888888888888,\"#fdca26\"],[1.0,\"#f0f921\"]]}],\"mesh3d\":[{\"type\":\"mesh3d\",\"colorbar\":{\"outlinewidth\":0,\"ticks\":\"\"}}],\"scatter\":[{\"fillpattern\":{\"fillmode\":\"overlay\",\"size\":10,\"solidity\":0.2},\"type\":\"scatter\"}],\"parcoords\":[{\"type\":\"parcoords\",\"line\":{\"colorbar\":{\"outlinewidth\":0,\"ticks\":\"\"}}}],\"scatterpolargl\":[{\"type\":\"scatterpolargl\",\"marker\":{\"colorbar\":{\"outlinewidth\":0,\"ticks\":\"\"}}}],\"bar\":[{\"error_x\":{\"color\":\"#2a3f5f\"},\"error_y\":{\"color\":\"#2a3f5f\"},\"marker\":{\"line\":{\"color\":\"#E5ECF6\",\"width\":0.5},\"pattern\":{\"fillmode\":\"overlay\",\"size\":10,\"solidity\":0.2}},\"type\":\"bar\"}],\"scattergeo\":[{\"type\":\"scattergeo\",\"marker\":{\"colorbar\":{\"outlinewidth\":0,\"ticks\":\"\"}}}],\"scatterpolar\":[{\"type\":\"scatterpolar\",\"marker\":{\"colorbar\":{\"outlinewidth\":0,\"ticks\":\"\"}}}],\"histogram\":[{\"marker\":{\"pattern\":{\"fillmode\":\"overlay\",\"size\":10,\"solidity\":0.2}},\"type\":\"histogram\"}],\"scattergl\":[{\"type\":\"scattergl\",\"marker\":{\"colorbar\":{\"outlinewidth\":0,\"ticks\":\"\"}}}],\"scatter3d\":[{\"type\":\"scatter3d\",\"line\":{\"colorbar\":{\"outlinewidth\":0,\"ticks\":\"\"}},\"marker\":{\"colorbar\":{\"outlinewidth\":0,\"ticks\":\"\"}}}],\"scattermapbox\":[{\"type\":\"scattermapbox\",\"marker\":{\"colorbar\":{\"outlinewidth\":0,\"ticks\":\"\"}}}],\"scatterternary\":[{\"type\":\"scatterternary\",\"marker\":{\"colorbar\":{\"outlinewidth\":0,\"ticks\":\"\"}}}],\"scattercarpet\":[{\"type\":\"scattercarpet\",\"marker\":{\"colorbar\":{\"outlinewidth\":0,\"ticks\":\"\"}}}],\"carpet\":[{\"aaxis\":{\"endlinecolor\":\"#2a3f5f\",\"gridcolor\":\"white\",\"linecolor\":\"white\",\"minorgridcolor\":\"white\",\"startlinecolor\":\"#2a3f5f\"},\"baxis\":{\"endlinecolor\":\"#2a3f5f\",\"gridcolor\":\"white\",\"linecolor\":\"white\",\"minorgridcolor\":\"white\",\"startlinecolor\":\"#2a3f5f\"},\"type\":\"carpet\"}],\"table\":[{\"cells\":{\"fill\":{\"color\":\"#EBF0F8\"},\"line\":{\"color\":\"white\"}},\"header\":{\"fill\":{\"color\":\"#C8D4E3\"},\"line\":{\"color\":\"white\"}},\"type\":\"table\"}],\"barpolar\":[{\"marker\":{\"line\":{\"color\":\"#E5ECF6\",\"width\":0.5},\"pattern\":{\"fillmode\":\"overlay\",\"size\":10,\"solidity\":0.2}},\"type\":\"barpolar\"}],\"pie\":[{\"automargin\":true,\"type\":\"pie\"}]},\"layout\":{\"autotypenumbers\":\"strict\",\"colorway\":[\"#636efa\",\"#EF553B\",\"#00cc96\",\"#ab63fa\",\"#FFA15A\",\"#19d3f3\",\"#FF6692\",\"#B6E880\",\"#FF97FF\",\"#FECB52\"],\"font\":{\"color\":\"#2a3f5f\"},\"hovermode\":\"closest\",\"hoverlabel\":{\"align\":\"left\"},\"paper_bgcolor\":\"white\",\"plot_bgcolor\":\"#E5ECF6\",\"polar\":{\"bgcolor\":\"#E5ECF6\",\"angularaxis\":{\"gridcolor\":\"white\",\"linecolor\":\"white\",\"ticks\":\"\"},\"radialaxis\":{\"gridcolor\":\"white\",\"linecolor\":\"white\",\"ticks\":\"\"}},\"ternary\":{\"bgcolor\":\"#E5ECF6\",\"aaxis\":{\"gridcolor\":\"white\",\"linecolor\":\"white\",\"ticks\":\"\"},\"baxis\":{\"gridcolor\":\"white\",\"linecolor\":\"white\",\"ticks\":\"\"},\"caxis\":{\"gridcolor\":\"white\",\"linecolor\":\"white\",\"ticks\":\"\"}},\"coloraxis\":{\"colorbar\":{\"outlinewidth\":0,\"ticks\":\"\"}},\"colorscale\":{\"sequential\":[[0.0,\"#0d0887\"],[0.1111111111111111,\"#46039f\"],[0.2222222222222222,\"#7201a8\"],[0.3333333333333333,\"#9c179e\"],[0.4444444444444444,\"#bd3786\"],[0.5555555555555556,\"#d8576b\"],[0.6666666666666666,\"#ed7953\"],[0.7777777777777778,\"#fb9f3a\"],[0.8888888888888888,\"#fdca26\"],[1.0,\"#f0f921\"]],\"sequentialminus\":[[0.0,\"#0d0887\"],[0.1111111111111111,\"#46039f\"],[0.2222222222222222,\"#7201a8\"],[0.3333333333333333,\"#9c179e\"],[0.4444444444444444,\"#bd3786\"],[0.5555555555555556,\"#d8576b\"],[0.6666666666666666,\"#ed7953\"],[0.7777777777777778,\"#fb9f3a\"],[0.8888888888888888,\"#fdca26\"],[1.0,\"#f0f921\"]],\"diverging\":[[0,\"#8e0152\"],[0.1,\"#c51b7d\"],[0.2,\"#de77ae\"],[0.3,\"#f1b6da\"],[0.4,\"#fde0ef\"],[0.5,\"#f7f7f7\"],[0.6,\"#e6f5d0\"],[0.7,\"#b8e186\"],[0.8,\"#7fbc41\"],[0.9,\"#4d9221\"],[1,\"#276419\"]]},\"xaxis\":{\"gridcolor\":\"white\",\"linecolor\":\"white\",\"ticks\":\"\",\"title\":{\"standoff\":15},\"zerolinecolor\":\"white\",\"automargin\":true,\"zerolinewidth\":2},\"yaxis\":{\"gridcolor\":\"white\",\"linecolor\":\"white\",\"ticks\":\"\",\"title\":{\"standoff\":15},\"zerolinecolor\":\"white\",\"automargin\":true,\"zerolinewidth\":2},\"scene\":{\"xaxis\":{\"backgroundcolor\":\"#E5ECF6\",\"gridcolor\":\"white\",\"linecolor\":\"white\",\"showbackground\":true,\"ticks\":\"\",\"zerolinecolor\":\"white\",\"gridwidth\":2},\"yaxis\":{\"backgroundcolor\":\"#E5ECF6\",\"gridcolor\":\"white\",\"linecolor\":\"white\",\"showbackground\":true,\"ticks\":\"\",\"zerolinecolor\":\"white\",\"gridwidth\":2},\"zaxis\":{\"backgroundcolor\":\"#E5ECF6\",\"gridcolor\":\"white\",\"linecolor\":\"white\",\"showbackground\":true,\"ticks\":\"\",\"zerolinecolor\":\"white\",\"gridwidth\":2}},\"shapedefaults\":{\"line\":{\"color\":\"#2a3f5f\"}},\"annotationdefaults\":{\"arrowcolor\":\"#2a3f5f\",\"arrowhead\":0,\"arrowwidth\":1},\"geo\":{\"bgcolor\":\"white\",\"landcolor\":\"#E5ECF6\",\"subunitcolor\":\"white\",\"showland\":true,\"showlakes\":true,\"lakecolor\":\"white\"},\"title\":{\"x\":0.05},\"mapbox\":{\"style\":\"light\"}}},\"title\":{\"text\":\"Temperature-Humidity Relationship\"},\"xaxis\":{\"title\":{\"text\":\"Temp\"}},\"yaxis\":{\"title\":{\"text\":\"Humidity\"}}},                        {\"responsive\": true}                    ).then(function(){\n",
              "                            \n",
              "var gd = document.getElementById('4c7a27d9-9b6c-4b14-ad94-e064fbddad30');\n",
              "var x = new MutationObserver(function (mutations, observer) {{\n",
              "        var display = window.getComputedStyle(gd).display;\n",
              "        if (!display || display === 'none') {{\n",
              "            console.log([gd, 'removed!']);\n",
              "            Plotly.purge(gd);\n",
              "            observer.disconnect();\n",
              "        }}\n",
              "}});\n",
              "\n",
              "// Listen for the removal of the full notebook cells\n",
              "var notebookContainer = gd.closest('#notebook-container');\n",
              "if (notebookContainer) {{\n",
              "    x.observe(notebookContainer, {childList: true});\n",
              "}}\n",
              "\n",
              "// Listen for the clearing of the current output cell\n",
              "var outputEl = gd.closest('.output');\n",
              "if (outputEl) {{\n",
              "    x.observe(outputEl, {childList: true});\n",
              "}}\n",
              "\n",
              "                        })                };                            </script>        </div>\n",
              "</body>\n",
              "</html>"
            ]
          },
          "metadata": {}
        }
      ]
    }
  ]
}